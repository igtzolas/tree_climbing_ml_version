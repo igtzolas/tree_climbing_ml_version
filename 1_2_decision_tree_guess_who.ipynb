{
 "cells": [
  {
   "cell_type": "code",
   "execution_count": 1,
   "metadata": {},
   "outputs": [],
   "source": [
    "import graphviz\n",
    "import os\n",
    "os.environ[\"PATH\"] += os.pathsep + '/opt/homebrew/bin/dot'\n",
    "\n",
    "import numpy as np \n",
    "import pandas as pd\n",
    "from sklearn.tree import DecisionTreeClassifier, export_graphviz\n",
    "from sklearn.preprocessing import LabelEncoder\n",
    "# https://colab.research.google.com/drive/1qD1GRCTZrPh_FaGkX05B3mqyC7QzrWpM"
   ]
  },
  {
   "cell_type": "code",
   "execution_count": 7,
   "metadata": {},
   "outputs": [],
   "source": [
    "df_dict = {'name': ['Tom',  'Herman',  'Richard',  'Sam',  'Anne',  'Max',  'Alex',  'Philip',  'Frans',  \n",
    "                           'Peter',  'Bill',  'Susan',  'Maria',  'Robert',  'Alfred',  'Paul',  'Claire',  'George',  \n",
    "                           'Bernard',  'Eric',  'Anita',  'Joe',  'Charles',  'David']\n",
    ", 'woman': [0,  0,  0,  0,  1,  0,  0,  0,  0,  0,  0,  1,  1,  0,  0,  0,  1,  0,  0,  0,  1,  0,  0,  0]\n",
    ", 'bald head': [1,  1,  1,  1,  0,  0,  0,  0,  0,  0,  1,  0,  0,  0,  0,  0,  0,  0,  0,  0,  0,  0,  0,  0]\n",
    ", 'glasses': [1,  0,  0,  1,  0,  0,  0,  0,  0,  0,  0,  0,  0,  0,  0,  1,  1,  0,  0,  0,  0,  1,  0,  0]\n",
    ", 'big nose': [0,  1,  0,  0,  0,  1,  0,  0,  0,  1,  0,  0,  0,  1,  0,  0,  0,  0,  1,  0,  0,  0,  0,  0]\n",
    ", 'hat or cap': [0,  0,  0,  0,  0,  0,  0,  0,  0,  0,  0,  0,  1,  0,  0,  0,  1,  1,  1,  1,  0,  0,  0,  0]\n",
    ", 'beard': [0,  0,  1,  0,  0,  1,  1,  1,  0,  0,  1,  0,  0,  0,  1,  0,  0,  0,  0,  0,  0,  0,  1,  1]\n",
    ", 'moustache': [0,  0,  1,  0,  0,  1,  1,  0,  0,  0,  0,  0,  0,  0,  1,  0,  0,  0,  0,  0,  0,  0,  1,  0]\n",
    ", 'chin-beard': [0,  0,  1,  0,  0,  0,  0,  1,  0,  0,  1,  0,  0,  0,  0,  0,  0,  0,  0,  0,  0,  0,  0,  1]\n",
    ", 'hair color white': [0,  0,  0,  1,  0,  0,  0,  0,  0,  1,  0,  1,  0,  0,  0,  1,  0,  1,  0,  0,  0,  0,  0,  0]\n",
    ", 'hair color blond': [0,  0,  0,  0,  0,  0,  0,  0,  0,  0,  0,  0,  0,  0,  0,  0,  0,  0,  0,  1,  1,  1,  1,  1]\n",
    ", 'hair color red': [0,  1,  0,  0,  0,  0,  0,  0,  1,  0,  1,  0,  0,  0,  1,  0,  1,  0,  0,  0,  0,  0,  0,  0]\n",
    ", 'hair color brown': [0,  0,  1,  0,  0,  0,  0,  0,  0,  0,  0,  0,  1,  1,  0,  0,  0,  0,  1,  0,  0,  0,  0,  0]\n",
    ", 'hair color black': [1,  0,  0,  0,  1,  1,  1,  1,  0,  0,  0,  0,  0,  0,  0,  0,  0,  0,  0,  0,  0,  0,  0,  0]\n",
    ", 'eye color blue': [1,  0,  0,  0,  0,  0,  0,  0,  0,  1,  0,  0,  0,  1,  1,  0,  0,  0,  0,  0,  1,  0,  0,  0]\n",
    "}\n",
    "\n",
    "df = pd.DataFrame(df_dict)\n",
    "name_encoder = LabelEncoder()\n",
    "df.name = name_encoder.fit_transform(df.name)"
   ]
  },
  {
   "cell_type": "code",
   "execution_count": 10,
   "metadata": {},
   "outputs": [
    {
     "data": {
      "text/plain": [
       "name                276\n",
       "woman                 5\n",
       "bald head             5\n",
       "glasses               5\n",
       "big nose              5\n",
       "hat or cap            5\n",
       "beard                 8\n",
       "moustache             5\n",
       "chin-beard            4\n",
       "hair color white      5\n",
       "hair color blond      5\n",
       "hair color red        5\n",
       "hair color brown      4\n",
       "hair color black      5\n",
       "eye color blue        5\n",
       "dtype: int64"
      ]
     },
     "execution_count": 10,
     "metadata": {},
     "output_type": "execute_result"
    }
   ],
   "source": [
    "df.sum(axis = 0)"
   ]
  },
  {
   "cell_type": "code",
   "execution_count": 4,
   "metadata": {},
   "outputs": [
    {
     "data": {
      "text/html": [
       "<style>#sk-container-id-1 {color: black;background-color: white;}#sk-container-id-1 pre{padding: 0;}#sk-container-id-1 div.sk-toggleable {background-color: white;}#sk-container-id-1 label.sk-toggleable__label {cursor: pointer;display: block;width: 100%;margin-bottom: 0;padding: 0.3em;box-sizing: border-box;text-align: center;}#sk-container-id-1 label.sk-toggleable__label-arrow:before {content: \"▸\";float: left;margin-right: 0.25em;color: #696969;}#sk-container-id-1 label.sk-toggleable__label-arrow:hover:before {color: black;}#sk-container-id-1 div.sk-estimator:hover label.sk-toggleable__label-arrow:before {color: black;}#sk-container-id-1 div.sk-toggleable__content {max-height: 0;max-width: 0;overflow: hidden;text-align: left;background-color: #f0f8ff;}#sk-container-id-1 div.sk-toggleable__content pre {margin: 0.2em;color: black;border-radius: 0.25em;background-color: #f0f8ff;}#sk-container-id-1 input.sk-toggleable__control:checked~div.sk-toggleable__content {max-height: 200px;max-width: 100%;overflow: auto;}#sk-container-id-1 input.sk-toggleable__control:checked~label.sk-toggleable__label-arrow:before {content: \"▾\";}#sk-container-id-1 div.sk-estimator input.sk-toggleable__control:checked~label.sk-toggleable__label {background-color: #d4ebff;}#sk-container-id-1 div.sk-label input.sk-toggleable__control:checked~label.sk-toggleable__label {background-color: #d4ebff;}#sk-container-id-1 input.sk-hidden--visually {border: 0;clip: rect(1px 1px 1px 1px);clip: rect(1px, 1px, 1px, 1px);height: 1px;margin: -1px;overflow: hidden;padding: 0;position: absolute;width: 1px;}#sk-container-id-1 div.sk-estimator {font-family: monospace;background-color: #f0f8ff;border: 1px dotted black;border-radius: 0.25em;box-sizing: border-box;margin-bottom: 0.5em;}#sk-container-id-1 div.sk-estimator:hover {background-color: #d4ebff;}#sk-container-id-1 div.sk-parallel-item::after {content: \"\";width: 100%;border-bottom: 1px solid gray;flex-grow: 1;}#sk-container-id-1 div.sk-label:hover label.sk-toggleable__label {background-color: #d4ebff;}#sk-container-id-1 div.sk-serial::before {content: \"\";position: absolute;border-left: 1px solid gray;box-sizing: border-box;top: 0;bottom: 0;left: 50%;z-index: 0;}#sk-container-id-1 div.sk-serial {display: flex;flex-direction: column;align-items: center;background-color: white;padding-right: 0.2em;padding-left: 0.2em;position: relative;}#sk-container-id-1 div.sk-item {position: relative;z-index: 1;}#sk-container-id-1 div.sk-parallel {display: flex;align-items: stretch;justify-content: center;background-color: white;position: relative;}#sk-container-id-1 div.sk-item::before, #sk-container-id-1 div.sk-parallel-item::before {content: \"\";position: absolute;border-left: 1px solid gray;box-sizing: border-box;top: 0;bottom: 0;left: 50%;z-index: -1;}#sk-container-id-1 div.sk-parallel-item {display: flex;flex-direction: column;z-index: 1;position: relative;background-color: white;}#sk-container-id-1 div.sk-parallel-item:first-child::after {align-self: flex-end;width: 50%;}#sk-container-id-1 div.sk-parallel-item:last-child::after {align-self: flex-start;width: 50%;}#sk-container-id-1 div.sk-parallel-item:only-child::after {width: 0;}#sk-container-id-1 div.sk-dashed-wrapped {border: 1px dashed gray;margin: 0 0.4em 0.5em 0.4em;box-sizing: border-box;padding-bottom: 0.4em;background-color: white;}#sk-container-id-1 div.sk-label label {font-family: monospace;font-weight: bold;display: inline-block;line-height: 1.2em;}#sk-container-id-1 div.sk-label-container {text-align: center;}#sk-container-id-1 div.sk-container {/* jupyter's `normalize.less` sets `[hidden] { display: none; }` but bootstrap.min.css set `[hidden] { display: none !important; }` so we also need the `!important` here to be able to override the default hidden behavior on the sphinx rendered scikit-learn.org. See: https://github.com/scikit-learn/scikit-learn/issues/21755 */display: inline-block !important;position: relative;}#sk-container-id-1 div.sk-text-repr-fallback {display: none;}</style><div id=\"sk-container-id-1\" class=\"sk-top-container\"><div class=\"sk-text-repr-fallback\"><pre>DecisionTreeClassifier(criterion=&#x27;entropy&#x27;, max_depth=1)</pre><b>In a Jupyter environment, please rerun this cell to show the HTML representation or trust the notebook. <br />On GitHub, the HTML representation is unable to render, please try loading this page with nbviewer.org.</b></div><div class=\"sk-container\" hidden><div class=\"sk-item\"><div class=\"sk-estimator sk-toggleable\"><input class=\"sk-toggleable__control sk-hidden--visually\" id=\"sk-estimator-id-1\" type=\"checkbox\" checked><label for=\"sk-estimator-id-1\" class=\"sk-toggleable__label sk-toggleable__label-arrow\">DecisionTreeClassifier</label><div class=\"sk-toggleable__content\"><pre>DecisionTreeClassifier(criterion=&#x27;entropy&#x27;, max_depth=1)</pre></div></div></div></div></div>"
      ],
      "text/plain": [
       "DecisionTreeClassifier(criterion='entropy', max_depth=1)"
      ]
     },
     "execution_count": 4,
     "metadata": {},
     "output_type": "execute_result"
    }
   ],
   "source": [
    "decision_tree_classifier = DecisionTreeClassifier(criterion=\"entropy\", max_depth = 1)\n",
    "decision_tree_classifier.fit(df.drop(\"name\", inplace=False, axis = 1), df[\"name\"])"
   ]
  },
  {
   "cell_type": "code",
   "execution_count": 5,
   "metadata": {},
   "outputs": [],
   "source": [
    "feature_names = df.drop(\"name\", axis = 1, inplace = False).columns\n",
    "target_names = np.array(df[\"name\"].values, dtype = np.str_)\n",
    "dot_data = export_graphviz(decision_tree_classifier, out_file=None, filled=True, rounded = True, feature_names=feature_names, class_names=target_names)\n",
    "graph = graphviz.Source(dot_data)"
   ]
  },
  {
   "cell_type": "code",
   "execution_count": 6,
   "metadata": {},
   "outputs": [
    {
     "data": {
      "image/svg+xml": [
       "<?xml version=\"1.0\" encoding=\"UTF-8\" standalone=\"no\"?>\n",
       "<!DOCTYPE svg PUBLIC \"-//W3C//DTD SVG 1.1//EN\"\n",
       " \"http://www.w3.org/Graphics/SVG/1.1/DTD/svg11.dtd\">\n",
       "<!-- Generated by graphviz version 8.1.0 (20230707.0739)\n",
       " -->\n",
       "<!-- Title: Tree Pages: 1 -->\n",
       "<svg width=\"566pt\" height=\"225pt\"\n",
       " viewBox=\"0.00 0.00 566.25 225.00\" xmlns=\"http://www.w3.org/2000/svg\" xmlns:xlink=\"http://www.w3.org/1999/xlink\">\n",
       "<g id=\"graph0\" class=\"graph\" transform=\"scale(1 1) rotate(0) translate(4 221)\">\n",
       "<title>Tree</title>\n",
       "<polygon fill=\"white\" stroke=\"none\" points=\"-4,4 -4,-221 562.25,-221 562.25,4 -4,4\"/>\n",
       "<!-- 0 -->\n",
       "<g id=\"node1\" class=\"node\">\n",
       "<title>0</title>\n",
       "<path fill=\"#ffffff\" stroke=\"black\" d=\"M402.25,-217C402.25,-217 156,-217 156,-217 150,-217 144,-211 144,-205 144,-205 144,-131 144,-131 144,-125 150,-119 156,-119 156,-119 402.25,-119 402.25,-119 408.25,-119 414.25,-125 414.25,-131 414.25,-131 414.25,-205 414.25,-205 414.25,-211 408.25,-217 402.25,-217\"/>\n",
       "<text text-anchor=\"middle\" x=\"279.12\" y=\"-199.7\" font-family=\"Helvetica,sans-Serif\" font-size=\"14.00\">beard &lt;= 0.5</text>\n",
       "<text text-anchor=\"middle\" x=\"279.12\" y=\"-184.7\" font-family=\"Helvetica,sans-Serif\" font-size=\"14.00\">entropy = 4.585</text>\n",
       "<text text-anchor=\"middle\" x=\"279.12\" y=\"-169.7\" font-family=\"Helvetica,sans-Serif\" font-size=\"14.00\">samples = 24</text>\n",
       "<text text-anchor=\"middle\" x=\"279.12\" y=\"-154.7\" font-family=\"Helvetica,sans-Serif\" font-size=\"14.00\">value = [1, 1, 1, 1, 1, 1, 1, 1, 1, 1, 1, 1, 1, 1</text>\n",
       "<text text-anchor=\"middle\" x=\"279.12\" y=\"-139.7\" font-family=\"Helvetica,sans-Serif\" font-size=\"14.00\">1, 1, 1, 1, 1, 1, 1, 1, 1, 1]</text>\n",
       "<text text-anchor=\"middle\" x=\"279.12\" y=\"-124.7\" font-family=\"Helvetica,sans-Serif\" font-size=\"14.00\">class = 23</text>\n",
       "</g>\n",
       "<!-- 1 -->\n",
       "<g id=\"node2\" class=\"node\">\n",
       "<title>1</title>\n",
       "<path fill=\"#ffffff\" stroke=\"black\" d=\"M258.25,-83C258.25,-83 12,-83 12,-83 6,-83 0,-77 0,-71 0,-71 0,-12 0,-12 0,-6 6,0 12,0 12,0 258.25,0 258.25,0 264.25,0 270.25,-6 270.25,-12 270.25,-12 270.25,-71 270.25,-71 270.25,-77 264.25,-83 258.25,-83\"/>\n",
       "<text text-anchor=\"middle\" x=\"135.12\" y=\"-65.7\" font-family=\"Helvetica,sans-Serif\" font-size=\"14.00\">entropy = 4.0</text>\n",
       "<text text-anchor=\"middle\" x=\"135.12\" y=\"-50.7\" font-family=\"Helvetica,sans-Serif\" font-size=\"14.00\">samples = 16</text>\n",
       "<text text-anchor=\"middle\" x=\"135.12\" y=\"-35.7\" font-family=\"Helvetica,sans-Serif\" font-size=\"14.00\">value = [0, 0, 1, 1, 1, 0, 0, 1, 0, 1, 1, 1, 1, 1</text>\n",
       "<text text-anchor=\"middle\" x=\"135.12\" y=\"-20.7\" font-family=\"Helvetica,sans-Serif\" font-size=\"14.00\">1, 0, 1, 1, 0, 0, 1, 1, 1, 1]</text>\n",
       "<text text-anchor=\"middle\" x=\"135.12\" y=\"-5.7\" font-family=\"Helvetica,sans-Serif\" font-size=\"14.00\">class = 19</text>\n",
       "</g>\n",
       "<!-- 0&#45;&gt;1 -->\n",
       "<g id=\"edge1\" class=\"edge\">\n",
       "<title>0&#45;&gt;1</title>\n",
       "<path fill=\"none\" stroke=\"black\" d=\"M223.04,-118.51C212.34,-109.26 201.15,-99.58 190.47,-90.35\"/>\n",
       "<polygon fill=\"black\" stroke=\"black\" points=\"193.28,-87.29 183.43,-83.4 188.7,-92.59 193.28,-87.29\"/>\n",
       "<text text-anchor=\"middle\" x=\"184.24\" y=\"-102.53\" font-family=\"Helvetica,sans-Serif\" font-size=\"14.00\">True</text>\n",
       "</g>\n",
       "<!-- 2 -->\n",
       "<g id=\"node3\" class=\"node\">\n",
       "<title>2</title>\n",
       "<path fill=\"#ffffff\" stroke=\"black\" d=\"M546.25,-83C546.25,-83 300,-83 300,-83 294,-83 288,-77 288,-71 288,-71 288,-12 288,-12 288,-6 294,0 300,0 300,0 546.25,0 546.25,0 552.25,0 558.25,-6 558.25,-12 558.25,-12 558.25,-71 558.25,-71 558.25,-77 552.25,-83 546.25,-83\"/>\n",
       "<text text-anchor=\"middle\" x=\"423.12\" y=\"-65.7\" font-family=\"Helvetica,sans-Serif\" font-size=\"14.00\">entropy = 3.0</text>\n",
       "<text text-anchor=\"middle\" x=\"423.12\" y=\"-50.7\" font-family=\"Helvetica,sans-Serif\" font-size=\"14.00\">samples = 8</text>\n",
       "<text text-anchor=\"middle\" x=\"423.12\" y=\"-35.7\" font-family=\"Helvetica,sans-Serif\" font-size=\"14.00\">value = [1, 1, 0, 0, 0, 1, 1, 0, 1, 0, 0, 0, 0, 0</text>\n",
       "<text text-anchor=\"middle\" x=\"423.12\" y=\"-20.7\" font-family=\"Helvetica,sans-Serif\" font-size=\"14.00\">0, 1, 0, 0, 1, 1, 0, 0, 0, 0]</text>\n",
       "<text text-anchor=\"middle\" x=\"423.12\" y=\"-5.7\" font-family=\"Helvetica,sans-Serif\" font-size=\"14.00\">class = 23</text>\n",
       "</g>\n",
       "<!-- 0&#45;&gt;2 -->\n",
       "<g id=\"edge2\" class=\"edge\">\n",
       "<title>0&#45;&gt;2</title>\n",
       "<path fill=\"none\" stroke=\"black\" d=\"M335.21,-118.51C345.91,-109.26 357.1,-99.58 367.78,-90.35\"/>\n",
       "<polygon fill=\"black\" stroke=\"black\" points=\"369.55,-92.59 374.82,-83.4 364.97,-87.29 369.55,-92.59\"/>\n",
       "<text text-anchor=\"middle\" x=\"374.01\" y=\"-102.53\" font-family=\"Helvetica,sans-Serif\" font-size=\"14.00\">False</text>\n",
       "</g>\n",
       "</g>\n",
       "</svg>\n"
      ],
      "text/plain": [
       "<graphviz.sources.Source at 0x7f82184e47f0>"
      ]
     },
     "execution_count": 6,
     "metadata": {},
     "output_type": "execute_result"
    }
   ],
   "source": [
    "graph"
   ]
  },
  {
   "cell_type": "code",
   "execution_count": 8,
   "metadata": {},
   "outputs": [
    {
     "data": {
      "text/plain": [
       "{'ccp_alpha': 0.0,\n",
       " 'class_weight': None,\n",
       " 'criterion': 'entropy',\n",
       " 'max_depth': 1,\n",
       " 'max_features': None,\n",
       " 'max_leaf_nodes': None,\n",
       " 'min_impurity_decrease': 0.0,\n",
       " 'min_samples_leaf': 1,\n",
       " 'min_samples_split': 2,\n",
       " 'min_weight_fraction_leaf': 0.0,\n",
       " 'random_state': None,\n",
       " 'splitter': 'best'}"
      ]
     },
     "execution_count": 8,
     "metadata": {},
     "output_type": "execute_result"
    }
   ],
   "source": [
    "decision_tree_classifier.get_params()"
   ]
  },
  {
   "cell_type": "code",
   "execution_count": 9,
   "metadata": {},
   "outputs": [
    {
     "data": {
      "text/html": [
       "<style>#sk-container-id-2 {color: black;background-color: white;}#sk-container-id-2 pre{padding: 0;}#sk-container-id-2 div.sk-toggleable {background-color: white;}#sk-container-id-2 label.sk-toggleable__label {cursor: pointer;display: block;width: 100%;margin-bottom: 0;padding: 0.3em;box-sizing: border-box;text-align: center;}#sk-container-id-2 label.sk-toggleable__label-arrow:before {content: \"▸\";float: left;margin-right: 0.25em;color: #696969;}#sk-container-id-2 label.sk-toggleable__label-arrow:hover:before {color: black;}#sk-container-id-2 div.sk-estimator:hover label.sk-toggleable__label-arrow:before {color: black;}#sk-container-id-2 div.sk-toggleable__content {max-height: 0;max-width: 0;overflow: hidden;text-align: left;background-color: #f0f8ff;}#sk-container-id-2 div.sk-toggleable__content pre {margin: 0.2em;color: black;border-radius: 0.25em;background-color: #f0f8ff;}#sk-container-id-2 input.sk-toggleable__control:checked~div.sk-toggleable__content {max-height: 200px;max-width: 100%;overflow: auto;}#sk-container-id-2 input.sk-toggleable__control:checked~label.sk-toggleable__label-arrow:before {content: \"▾\";}#sk-container-id-2 div.sk-estimator input.sk-toggleable__control:checked~label.sk-toggleable__label {background-color: #d4ebff;}#sk-container-id-2 div.sk-label input.sk-toggleable__control:checked~label.sk-toggleable__label {background-color: #d4ebff;}#sk-container-id-2 input.sk-hidden--visually {border: 0;clip: rect(1px 1px 1px 1px);clip: rect(1px, 1px, 1px, 1px);height: 1px;margin: -1px;overflow: hidden;padding: 0;position: absolute;width: 1px;}#sk-container-id-2 div.sk-estimator {font-family: monospace;background-color: #f0f8ff;border: 1px dotted black;border-radius: 0.25em;box-sizing: border-box;margin-bottom: 0.5em;}#sk-container-id-2 div.sk-estimator:hover {background-color: #d4ebff;}#sk-container-id-2 div.sk-parallel-item::after {content: \"\";width: 100%;border-bottom: 1px solid gray;flex-grow: 1;}#sk-container-id-2 div.sk-label:hover label.sk-toggleable__label {background-color: #d4ebff;}#sk-container-id-2 div.sk-serial::before {content: \"\";position: absolute;border-left: 1px solid gray;box-sizing: border-box;top: 0;bottom: 0;left: 50%;z-index: 0;}#sk-container-id-2 div.sk-serial {display: flex;flex-direction: column;align-items: center;background-color: white;padding-right: 0.2em;padding-left: 0.2em;position: relative;}#sk-container-id-2 div.sk-item {position: relative;z-index: 1;}#sk-container-id-2 div.sk-parallel {display: flex;align-items: stretch;justify-content: center;background-color: white;position: relative;}#sk-container-id-2 div.sk-item::before, #sk-container-id-2 div.sk-parallel-item::before {content: \"\";position: absolute;border-left: 1px solid gray;box-sizing: border-box;top: 0;bottom: 0;left: 50%;z-index: -1;}#sk-container-id-2 div.sk-parallel-item {display: flex;flex-direction: column;z-index: 1;position: relative;background-color: white;}#sk-container-id-2 div.sk-parallel-item:first-child::after {align-self: flex-end;width: 50%;}#sk-container-id-2 div.sk-parallel-item:last-child::after {align-self: flex-start;width: 50%;}#sk-container-id-2 div.sk-parallel-item:only-child::after {width: 0;}#sk-container-id-2 div.sk-dashed-wrapped {border: 1px dashed gray;margin: 0 0.4em 0.5em 0.4em;box-sizing: border-box;padding-bottom: 0.4em;background-color: white;}#sk-container-id-2 div.sk-label label {font-family: monospace;font-weight: bold;display: inline-block;line-height: 1.2em;}#sk-container-id-2 div.sk-label-container {text-align: center;}#sk-container-id-2 div.sk-container {/* jupyter's `normalize.less` sets `[hidden] { display: none; }` but bootstrap.min.css set `[hidden] { display: none !important; }` so we also need the `!important` here to be able to override the default hidden behavior on the sphinx rendered scikit-learn.org. See: https://github.com/scikit-learn/scikit-learn/issues/21755 */display: inline-block !important;position: relative;}#sk-container-id-2 div.sk-text-repr-fallback {display: none;}</style><div id=\"sk-container-id-2\" class=\"sk-top-container\"><div class=\"sk-text-repr-fallback\"><pre>DecisionTreeClassifier(criterion=&#x27;entropy&#x27;)</pre><b>In a Jupyter environment, please rerun this cell to show the HTML representation or trust the notebook. <br />On GitHub, the HTML representation is unable to render, please try loading this page with nbviewer.org.</b></div><div class=\"sk-container\" hidden><div class=\"sk-item\"><div class=\"sk-estimator sk-toggleable\"><input class=\"sk-toggleable__control sk-hidden--visually\" id=\"sk-estimator-id-2\" type=\"checkbox\" checked><label for=\"sk-estimator-id-2\" class=\"sk-toggleable__label sk-toggleable__label-arrow\">DecisionTreeClassifier</label><div class=\"sk-toggleable__content\"><pre>DecisionTreeClassifier(criterion=&#x27;entropy&#x27;)</pre></div></div></div></div></div>"
      ],
      "text/plain": [
       "DecisionTreeClassifier(criterion='entropy')"
      ]
     },
     "execution_count": 9,
     "metadata": {},
     "output_type": "execute_result"
    }
   ],
   "source": [
    "decision_tree_classifier = DecisionTreeClassifier(criterion=\"entropy\")\n",
    "decision_tree_classifier.fit(df.drop(\"name\", inplace=False, axis = 1), df[\"name\"])"
   ]
  },
  {
   "cell_type": "code",
   "execution_count": 10,
   "metadata": {},
   "outputs": [
    {
     "name": "stdout",
     "output_type": "stream",
     "text": [
      "def tree_model(woman, bald_head, glasses, big_nose, hat_or_cap, beard, moustache, chin-beard, hair_color_white, hair_color_blond, hair_color_red, hair_color_brown, hair_color_black, eye_color_blue):\n",
      "    if (beard <= 0.5):\n",
      "        if (hair_color_white <= 0.5):\n",
      "            if (hat_or_cap <= 0.5):\n",
      "                if (eye_color_blue <= 0.5):\n",
      "                    if (hair_color_red <= 0.5):\n",
      "                        if (glasses <= 0.5):\n",
      "                            return 'Aha it is Anne!'\n",
      "                        else:  # if (glasses > 0.5)\n",
      "                            return 'Aha it is Joe!'\n",
      "                    else:  # if (hair_color_red > 0.5)\n",
      "                        if (bald_head <= 0.5):\n",
      "                            return 'Aha it is Frans!'\n",
      "                        else:  # if (bald_head > 0.5)\n",
      "                            return 'Aha it is Herman!'\n",
      "                else:  # if (eye_color_blue > 0.5)\n",
      "                    if (hair_color_brown <= 0.5):\n",
      "                        if (glasses <= 0.5):\n",
      "                            return 'Aha it is Anita!'\n",
      "                        else:  # if (glasses > 0.5)\n",
      "                            return 'Aha it is Tom!'\n",
      "                    else:  # if (hair_color_brown > 0.5)\n",
      "                        return 'Aha it is Robert!'\n",
      "            else:  # if (hat_or_cap > 0.5)\n",
      "                if (woman <= 0.5):\n",
      "                    if (big_nose <= 0.5):\n",
      "                        return 'Aha it is Eric!'\n",
      "                    else:  # if (big_nose > 0.5)\n",
      "                        return 'Aha it is Bernard!'\n",
      "                else:  # if (woman > 0.5)\n",
      "                    if (hair_color_red <= 0.5):\n",
      "                        return 'Aha it is Maria!'\n",
      "                    else:  # if (hair_color_red > 0.5)\n",
      "                        return 'Aha it is Claire!'\n",
      "        else:  # if (hair_color_white > 0.5)\n",
      "            if (glasses <= 0.5):\n",
      "                if (woman <= 0.5):\n",
      "                    if (hat_or_cap <= 0.5):\n",
      "                        return 'Aha it is Peter!'\n",
      "                    else:  # if (hat_or_cap > 0.5)\n",
      "                        return 'Aha it is George!'\n",
      "                else:  # if (woman > 0.5)\n",
      "                    return 'Aha it is Susan!'\n",
      "            else:  # if (glasses > 0.5)\n",
      "                if (bald_head <= 0.5):\n",
      "                    return 'Aha it is Paul!'\n",
      "                else:  # if (bald_head > 0.5)\n",
      "                    return 'Aha it is Sam!'\n",
      "    else:  # if (beard > 0.5)\n",
      "        if (chin-beard <= 0.5):\n",
      "            if (hair_color_black <= 0.5):\n",
      "                if (hair_color_blond <= 0.5):\n",
      "                    return 'Aha it is Alfred!'\n",
      "                else:  # if (hair_color_blond > 0.5)\n",
      "                    return 'Aha it is Charles!'\n",
      "            else:  # if (hair_color_black > 0.5)\n",
      "                if (big_nose <= 0.5):\n",
      "                    return 'Aha it is Alex!'\n",
      "                else:  # if (big_nose > 0.5)\n",
      "                    return 'Aha it is Max!'\n",
      "        else:  # if (chin-beard > 0.5)\n",
      "            if (bald_head <= 0.5):\n",
      "                if (hair_color_blond <= 0.5):\n",
      "                    return 'Aha it is Philip!'\n",
      "                else:  # if (hair_color_blond > 0.5)\n",
      "                    return 'Aha it is David!'\n",
      "            else:  # if (bald_head > 0.5)\n",
      "                if (moustache <= 0.5):\n",
      "                    return 'Aha it is Bill!'\n",
      "                else:  # if (moustache > 0.5)\n",
      "                    return 'Aha it is Richard!'\n"
     ]
    }
   ],
   "source": [
    "import ast\n",
    "from sklearn.tree import _tree\n",
    "PYTHON_INDENT_STEP = \"    \"\n",
    "\n",
    "def pythonize(feature_name):\n",
    "    \"\"\"\n",
    "    Since we will be likely using the columns names of some datasets, and will wish to \n",
    "    have some python parmeters for referencing them we need to make sure that these \n",
    "    names abide by the python varible nameing convention.\n",
    "\n",
    "    This function is a really quick and dirty way of achieveing this, in through some quick replace rules.\n",
    "    \"\"\"\n",
    "    return (\n",
    "        feature_name\n",
    "            .replace(\" \", \"_\")\n",
    "            .replace(\"(\", \"_\")\n",
    "            .replace(\")\", \"_\")\n",
    "            .replace(\"__\", \"_\")\n",
    "    )\n",
    "\n",
    "def get_node_feature_names(tree_, feature_names):\n",
    "    \"\"\"\n",
    "    Whenever possible, return the feature names (as in strings)\n",
    "    \"\"\"\n",
    "    try:\n",
    "        return [\n",
    "            pythonize(feature_names[i]) if i != _tree.TREE_UNDEFINED else \"undefined!\"\n",
    "            for i in tree_.feature\n",
    "        ]\n",
    "    except:\n",
    "        # when something goes wrong with the above, we will have numbers in the `tree_.feature` list \n",
    "        # which we want to convert to actual python variable names (i.e. by converting 5 to \"_5\")\n",
    "\n",
    "        # TODO: maybe add this rule to the `pythonize` function and use here instead\n",
    "        return [f\"_{i}\" for i in tree_.feature]\n",
    "    \n",
    "def stringify_list(_list):\n",
    "    return f\"[{', '.join(str(i) for i in _list)}]\"\n",
    "\n",
    "def probabilities(node_counts):\n",
    "    \"\"\"\n",
    "    By default, the tree stores the number of datapoints from each class in a leaf node (as the node values)\n",
    "    but we want to convert this into probabilities so the generated code acts like a propper model.\n",
    "\n",
    "    We can use `softmax` of other squish-list-to-probabilities formulas (in this case `a / sum(A)`)\n",
    "    \"\"\"\n",
    "    return node_counts / np.sum(node_counts)\n",
    "\n",
    "def tree_to_code(tree, feature_names):\n",
    "    tree_ = tree.tree_\n",
    "    feature_names = list(map(pythonize, feature_names))\n",
    "    node_feature_name = get_node_feature_names(tree_, feature_names)\n",
    "    print(f\"def tree_model({', '.join(feature_names)}):\")\n",
    "\n",
    "    def __recurse(node, depth):\n",
    "        indent = PYTHON_INDENT_STEP * depth\n",
    "        if tree_.feature[node] != _tree.TREE_UNDEFINED:\n",
    "            name = node_feature_name[node]\n",
    "            threshold = tree_.threshold[node]\n",
    "            \n",
    "            print(f\"{indent}if ({name} <= {threshold}):\")\n",
    "            __recurse(tree_.children_left[node], depth + 1)\n",
    "\n",
    "            print(f\"{indent}else:  # if ({name} > {threshold})\")\n",
    "            __recurse(tree_.children_right[node], depth + 1)\n",
    "        else:\n",
    "            name = name_encoder.inverse_transform([ast.literal_eval(stringify_list(probabilities(tree_.value[node][0]))).index(1.0)])[0]\n",
    "#             print(f\"{indent}return {stringify_list(probabilities(tree_.value[node][0]))}\")\n",
    "            print(f\"{indent}return 'Aha it is {name}!'\")\n",
    "\n",
    "    __recurse(0, 1)\n",
    "\n",
    "tree_to_code(decision_tree_classifier, feature_names)"
   ]
  },
  {
   "cell_type": "code",
   "execution_count": null,
   "metadata": {},
   "outputs": [],
   "source": []
  },
  {
   "cell_type": "code",
   "execution_count": null,
   "metadata": {},
   "outputs": [],
   "source": []
  },
  {
   "cell_type": "code",
   "execution_count": null,
   "metadata": {},
   "outputs": [],
   "source": []
  },
  {
   "cell_type": "code",
   "execution_count": null,
   "metadata": {},
   "outputs": [],
   "source": []
  }
 ],
 "metadata": {
  "kernelspec": {
   "display_name": "Python 3 (ipykernel)",
   "language": "python",
   "name": "python3"
  },
  "language_info": {
   "codemirror_mode": {
    "name": "ipython",
    "version": 3
   },
   "file_extension": ".py",
   "mimetype": "text/x-python",
   "name": "python",
   "nbconvert_exporter": "python",
   "pygments_lexer": "ipython3",
   "version": "3.9.12"
  }
 },
 "nbformat": 4,
 "nbformat_minor": 4
}
