{
 "cells": [
  {
   "cell_type": "code",
   "execution_count": 1,
   "id": "strange-purpose",
   "metadata": {},
   "outputs": [],
   "source": [
    "import numpy as np\n",
    "import pandas as pd\n",
    "import random\n",
    "from sklearn.tree import DecisionTreeClassifier, export_graphviz\n",
    "import graphviz\n",
    "import os\n",
    "os.environ[\"PATH\"] += os.pathsep + '/opt/homebrew/bin/dot'"
   ]
  },
  {
   "cell_type": "code",
   "execution_count": 56,
   "id": "strong-pregnancy",
   "metadata": {},
   "outputs": [],
   "source": [
    "# Inspired by the example in : https://www.youtube.com/watch?v=y5VdtQSqiAI\n",
    "\n",
    "BALLS = 12\n",
    "N = 50000\n",
    "\n",
    "d = {\n",
    "    \"weighing\" : [],\n",
    "    \"result\" : []\n",
    "}\n",
    "\n",
    "# We will consider ball 1 to be the problematic one\n",
    "for _ in range(N):\n",
    "    for n_balls in [2, 3, 4, 5, 6]:\n",
    "        d[\"weighing\"].append(n_balls)\n",
    "        is_heavier = random.choice([\"L\", \"H\"]) == \"H\"\n",
    "        scale_side_1 = list(np.random.choice(list(range(1, 13)), n_balls, replace = False))\n",
    "        scale_side_2 = list(np.random.choice([item for item in list(range(1, 13)) if item not in scale_side_1], n_balls, replace = False))\n",
    "        if 1 in scale_side_1 and is_heavier:\n",
    "            d[\"result\"].append(\"Left_Heavier\")\n",
    "        elif 1 in scale_side_1 and not is_heavier:\n",
    "            d[\"result\"].append(\"Left_Lighter\")\n",
    "        elif 1 in scale_side_2 and is_heavier:\n",
    "            d[\"result\"].append(\"Left_Lighter\")\n",
    "        elif 1 in scale_side_2 and not is_heavier:\n",
    "            d[\"result\"].append(\"Left_Heavier\")\n",
    "        else:\n",
    "            d[\"result\"].append(\"Equilibrium\")\n"
   ]
  },
  {
   "cell_type": "code",
   "execution_count": 57,
   "id": "6a6916e6",
   "metadata": {},
   "outputs": [
    {
     "name": "stdout",
     "output_type": "stream",
     "text": [
      "The dataframe contains 250000 rows.\n"
     ]
    },
    {
     "data": {
      "text/html": [
       "<div>\n",
       "<style scoped>\n",
       "    .dataframe tbody tr th:only-of-type {\n",
       "        vertical-align: middle;\n",
       "    }\n",
       "\n",
       "    .dataframe tbody tr th {\n",
       "        vertical-align: top;\n",
       "    }\n",
       "\n",
       "    .dataframe thead th {\n",
       "        text-align: right;\n",
       "    }\n",
       "</style>\n",
       "<table border=\"1\" class=\"dataframe\">\n",
       "  <thead>\n",
       "    <tr style=\"text-align: right;\">\n",
       "      <th></th>\n",
       "      <th>weighing</th>\n",
       "      <th>result</th>\n",
       "    </tr>\n",
       "  </thead>\n",
       "  <tbody>\n",
       "    <tr>\n",
       "      <th>0</th>\n",
       "      <td>2</td>\n",
       "      <td>Equilibrium</td>\n",
       "    </tr>\n",
       "    <tr>\n",
       "      <th>1</th>\n",
       "      <td>3</td>\n",
       "      <td>Equilibrium</td>\n",
       "    </tr>\n",
       "    <tr>\n",
       "      <th>2</th>\n",
       "      <td>4</td>\n",
       "      <td>Equilibrium</td>\n",
       "    </tr>\n",
       "    <tr>\n",
       "      <th>3</th>\n",
       "      <td>5</td>\n",
       "      <td>Equilibrium</td>\n",
       "    </tr>\n",
       "    <tr>\n",
       "      <th>4</th>\n",
       "      <td>6</td>\n",
       "      <td>Left_Lighter</td>\n",
       "    </tr>\n",
       "  </tbody>\n",
       "</table>\n",
       "</div>"
      ],
      "text/plain": [
       "   weighing        result\n",
       "0         2   Equilibrium\n",
       "1         3   Equilibrium\n",
       "2         4   Equilibrium\n",
       "3         5   Equilibrium\n",
       "4         6  Left_Lighter"
      ]
     },
     "execution_count": 57,
     "metadata": {},
     "output_type": "execute_result"
    }
   ],
   "source": [
    "df = pd.DataFrame(d)\n",
    "print(f\"The dataframe contains {len(df)} rows.\")\n",
    "df.head()"
   ]
  },
  {
   "cell_type": "code",
   "execution_count": 58,
   "id": "06568b2d",
   "metadata": {},
   "outputs": [],
   "source": [
    "def calculate_entropy(df):\n",
    "    entropy = 0\n",
    "    for key, prob in (df.value_counts()/df.shape[0]).to_dict().items(): \n",
    "        entropy += (-prob * np.log2(prob).item())\n",
    "    return entropy"
   ]
  },
  {
   "cell_type": "code",
   "execution_count": 59,
   "id": "9c10938c",
   "metadata": {},
   "outputs": [
    {
     "name": "stdout",
     "output_type": "stream",
     "text": [
      "The entropy when the number of balls is 2 is 1.2514790468657426.\n",
      "The entropy when the number of balls is 3 is 1.500254599512829.\n",
      "The entropy when the number of balls is 4 is 1.5849616520384058.\n",
      "The entropy when the number of balls is 5 is 1.4834035498154.\n",
      "The entropy when the number of balls is 6 is 0.9999994910171297.\n"
     ]
    }
   ],
   "source": [
    "for i in [2, 3, 4, 5, 6]:\n",
    "    print(f\"The entropy when the number of balls is {i} is {calculate_entropy(df.loc[df.weighing == i, :].result)}.\")"
   ]
  },
  {
   "cell_type": "code",
   "execution_count": 62,
   "id": "689932d0",
   "metadata": {},
   "outputs": [
    {
     "data": {
      "text/plain": [
       "Equilibrium     16692\n",
       "Left_Lighter    16657\n",
       "Left_Heavier    16651\n",
       "Name: result, dtype: int64"
      ]
     },
     "execution_count": 62,
     "metadata": {},
     "output_type": "execute_result"
    }
   ],
   "source": [
    "df.loc[df.weighing == 4, :].result.value_counts()"
   ]
  },
  {
   "cell_type": "code",
   "execution_count": 19,
   "id": "vocational-payday",
   "metadata": {},
   "outputs": [
    {
     "data": {
      "text/html": [
       "<style>#sk-container-id-3 {color: black;background-color: white;}#sk-container-id-3 pre{padding: 0;}#sk-container-id-3 div.sk-toggleable {background-color: white;}#sk-container-id-3 label.sk-toggleable__label {cursor: pointer;display: block;width: 100%;margin-bottom: 0;padding: 0.3em;box-sizing: border-box;text-align: center;}#sk-container-id-3 label.sk-toggleable__label-arrow:before {content: \"▸\";float: left;margin-right: 0.25em;color: #696969;}#sk-container-id-3 label.sk-toggleable__label-arrow:hover:before {color: black;}#sk-container-id-3 div.sk-estimator:hover label.sk-toggleable__label-arrow:before {color: black;}#sk-container-id-3 div.sk-toggleable__content {max-height: 0;max-width: 0;overflow: hidden;text-align: left;background-color: #f0f8ff;}#sk-container-id-3 div.sk-toggleable__content pre {margin: 0.2em;color: black;border-radius: 0.25em;background-color: #f0f8ff;}#sk-container-id-3 input.sk-toggleable__control:checked~div.sk-toggleable__content {max-height: 200px;max-width: 100%;overflow: auto;}#sk-container-id-3 input.sk-toggleable__control:checked~label.sk-toggleable__label-arrow:before {content: \"▾\";}#sk-container-id-3 div.sk-estimator input.sk-toggleable__control:checked~label.sk-toggleable__label {background-color: #d4ebff;}#sk-container-id-3 div.sk-label input.sk-toggleable__control:checked~label.sk-toggleable__label {background-color: #d4ebff;}#sk-container-id-3 input.sk-hidden--visually {border: 0;clip: rect(1px 1px 1px 1px);clip: rect(1px, 1px, 1px, 1px);height: 1px;margin: -1px;overflow: hidden;padding: 0;position: absolute;width: 1px;}#sk-container-id-3 div.sk-estimator {font-family: monospace;background-color: #f0f8ff;border: 1px dotted black;border-radius: 0.25em;box-sizing: border-box;margin-bottom: 0.5em;}#sk-container-id-3 div.sk-estimator:hover {background-color: #d4ebff;}#sk-container-id-3 div.sk-parallel-item::after {content: \"\";width: 100%;border-bottom: 1px solid gray;flex-grow: 1;}#sk-container-id-3 div.sk-label:hover label.sk-toggleable__label {background-color: #d4ebff;}#sk-container-id-3 div.sk-serial::before {content: \"\";position: absolute;border-left: 1px solid gray;box-sizing: border-box;top: 0;bottom: 0;left: 50%;z-index: 0;}#sk-container-id-3 div.sk-serial {display: flex;flex-direction: column;align-items: center;background-color: white;padding-right: 0.2em;padding-left: 0.2em;position: relative;}#sk-container-id-3 div.sk-item {position: relative;z-index: 1;}#sk-container-id-3 div.sk-parallel {display: flex;align-items: stretch;justify-content: center;background-color: white;position: relative;}#sk-container-id-3 div.sk-item::before, #sk-container-id-3 div.sk-parallel-item::before {content: \"\";position: absolute;border-left: 1px solid gray;box-sizing: border-box;top: 0;bottom: 0;left: 50%;z-index: -1;}#sk-container-id-3 div.sk-parallel-item {display: flex;flex-direction: column;z-index: 1;position: relative;background-color: white;}#sk-container-id-3 div.sk-parallel-item:first-child::after {align-self: flex-end;width: 50%;}#sk-container-id-3 div.sk-parallel-item:last-child::after {align-self: flex-start;width: 50%;}#sk-container-id-3 div.sk-parallel-item:only-child::after {width: 0;}#sk-container-id-3 div.sk-dashed-wrapped {border: 1px dashed gray;margin: 0 0.4em 0.5em 0.4em;box-sizing: border-box;padding-bottom: 0.4em;background-color: white;}#sk-container-id-3 div.sk-label label {font-family: monospace;font-weight: bold;display: inline-block;line-height: 1.2em;}#sk-container-id-3 div.sk-label-container {text-align: center;}#sk-container-id-3 div.sk-container {/* jupyter's `normalize.less` sets `[hidden] { display: none; }` but bootstrap.min.css set `[hidden] { display: none !important; }` so we also need the `!important` here to be able to override the default hidden behavior on the sphinx rendered scikit-learn.org. See: https://github.com/scikit-learn/scikit-learn/issues/21755 */display: inline-block !important;position: relative;}#sk-container-id-3 div.sk-text-repr-fallback {display: none;}</style><div id=\"sk-container-id-3\" class=\"sk-top-container\"><div class=\"sk-text-repr-fallback\"><pre>DecisionTreeClassifier(criterion=&#x27;entropy&#x27;)</pre><b>In a Jupyter environment, please rerun this cell to show the HTML representation or trust the notebook. <br />On GitHub, the HTML representation is unable to render, please try loading this page with nbviewer.org.</b></div><div class=\"sk-container\" hidden><div class=\"sk-item\"><div class=\"sk-estimator sk-toggleable\"><input class=\"sk-toggleable__control sk-hidden--visually\" id=\"sk-estimator-id-3\" type=\"checkbox\" checked><label for=\"sk-estimator-id-3\" class=\"sk-toggleable__label sk-toggleable__label-arrow\">DecisionTreeClassifier</label><div class=\"sk-toggleable__content\"><pre>DecisionTreeClassifier(criterion=&#x27;entropy&#x27;)</pre></div></div></div></div></div>"
      ],
      "text/plain": [
       "DecisionTreeClassifier(criterion='entropy')"
      ]
     },
     "execution_count": 19,
     "metadata": {},
     "output_type": "execute_result"
    }
   ],
   "source": [
    "decision_tree_classifier = DecisionTreeClassifier(criterion=\"entropy\")\n",
    "decision_tree_classifier.fit(df.drop(\"result\", inplace=False, axis = 1), df[\"result\"])"
   ]
  },
  {
   "cell_type": "code",
   "execution_count": 20,
   "id": "capable-examination",
   "metadata": {},
   "outputs": [
    {
     "data": {
      "image/svg+xml": [
       "<?xml version=\"1.0\" encoding=\"UTF-8\" standalone=\"no\"?>\n",
       "<!DOCTYPE svg PUBLIC \"-//W3C//DTD SVG 1.1//EN\"\n",
       " \"http://www.w3.org/Graphics/SVG/1.1/DTD/svg11.dtd\">\n",
       "<!-- Generated by graphviz version 8.1.0 (20230707.0739)\n",
       " -->\n",
       "<!-- Title: Tree Pages: 1 -->\n",
       "<svg width=\"847pt\" height=\"433pt\"\n",
       " viewBox=\"0.00 0.00 847.25 433.00\" xmlns=\"http://www.w3.org/2000/svg\" xmlns:xlink=\"http://www.w3.org/1999/xlink\">\n",
       "<g id=\"graph0\" class=\"graph\" transform=\"scale(1 1) rotate(0) translate(4 429)\">\n",
       "<title>Tree</title>\n",
       "<polygon fill=\"white\" stroke=\"none\" points=\"-4,4 -4,-429 843.25,-429 843.25,4 -4,4\"/>\n",
       "<!-- 0 -->\n",
       "<g id=\"node1\" class=\"node\">\n",
       "<title>0</title>\n",
       "<path fill=\"#fffefe\" stroke=\"black\" d=\"M568.75,-425C568.75,-425 393.75,-425 393.75,-425 387.75,-425 381.75,-419 381.75,-413 381.75,-413 381.75,-354 381.75,-354 381.75,-348 387.75,-342 393.75,-342 393.75,-342 568.75,-342 568.75,-342 574.75,-342 580.75,-348 580.75,-354 580.75,-354 580.75,-413 580.75,-413 580.75,-419 574.75,-425 568.75,-425\"/>\n",
       "<text text-anchor=\"middle\" x=\"481.25\" y=\"-407.7\" font-family=\"Helvetica,sans-Serif\" font-size=\"14.00\">weighing &lt;= 4.5</text>\n",
       "<text text-anchor=\"middle\" x=\"481.25\" y=\"-392.7\" font-family=\"Helvetica,sans-Serif\" font-size=\"14.00\">entropy = 1.585</text>\n",
       "<text text-anchor=\"middle\" x=\"481.25\" y=\"-377.7\" font-family=\"Helvetica,sans-Serif\" font-size=\"14.00\">samples = 50000</text>\n",
       "<text text-anchor=\"middle\" x=\"481.25\" y=\"-362.7\" font-family=\"Helvetica,sans-Serif\" font-size=\"14.00\">value = [16830, 16597, 16573]</text>\n",
       "<text text-anchor=\"middle\" x=\"481.25\" y=\"-347.7\" font-family=\"Helvetica,sans-Serif\" font-size=\"14.00\">class = Equilibrium</text>\n",
       "</g>\n",
       "<!-- 1 -->\n",
       "<g id=\"node2\" class=\"node\">\n",
       "<title>1</title>\n",
       "<path fill=\"#f6d4bc\" stroke=\"black\" d=\"M462.25,-306C462.25,-306 302.25,-306 302.25,-306 296.25,-306 290.25,-300 290.25,-294 290.25,-294 290.25,-235 290.25,-235 290.25,-229 296.25,-223 302.25,-223 302.25,-223 462.25,-223 462.25,-223 468.25,-223 474.25,-229 474.25,-235 474.25,-235 474.25,-294 474.25,-294 474.25,-300 468.25,-306 462.25,-306\"/>\n",
       "<text text-anchor=\"middle\" x=\"382.25\" y=\"-288.7\" font-family=\"Helvetica,sans-Serif\" font-size=\"14.00\">weighing &lt;= 3.5</text>\n",
       "<text text-anchor=\"middle\" x=\"382.25\" y=\"-273.7\" font-family=\"Helvetica,sans-Serif\" font-size=\"14.00\">entropy = 1.495</text>\n",
       "<text text-anchor=\"middle\" x=\"382.25\" y=\"-258.7\" font-family=\"Helvetica,sans-Serif\" font-size=\"14.00\">samples = 30000</text>\n",
       "<text text-anchor=\"middle\" x=\"382.25\" y=\"-243.7\" font-family=\"Helvetica,sans-Serif\" font-size=\"14.00\">value = [15134, 7482, 7384]</text>\n",
       "<text text-anchor=\"middle\" x=\"382.25\" y=\"-228.7\" font-family=\"Helvetica,sans-Serif\" font-size=\"14.00\">class = Equilibrium</text>\n",
       "</g>\n",
       "<!-- 0&#45;&gt;1 -->\n",
       "<g id=\"edge1\" class=\"edge\">\n",
       "<title>0&#45;&gt;1</title>\n",
       "<path fill=\"none\" stroke=\"black\" d=\"M446.62,-341.58C439.2,-332.8 431.28,-323.44 423.62,-314.39\"/>\n",
       "<polygon fill=\"black\" stroke=\"black\" points=\"425.82,-312.57 416.69,-307.2 420.48,-317.09 425.82,-312.57\"/>\n",
       "<text text-anchor=\"middle\" x=\"414.61\" y=\"-325.31\" font-family=\"Helvetica,sans-Serif\" font-size=\"14.00\">True</text>\n",
       "</g>\n",
       "<!-- 6 -->\n",
       "<g id=\"node7\" class=\"node\">\n",
       "<title>6</title>\n",
       "<path fill=\"#fefeff\" stroke=\"black\" d=\"M656.5,-306C656.5,-306 504,-306 504,-306 498,-306 492,-300 492,-294 492,-294 492,-235 492,-235 492,-229 498,-223 504,-223 504,-223 656.5,-223 656.5,-223 662.5,-223 668.5,-229 668.5,-235 668.5,-235 668.5,-294 668.5,-294 668.5,-300 662.5,-306 656.5,-306\"/>\n",
       "<text text-anchor=\"middle\" x=\"580.25\" y=\"-288.7\" font-family=\"Helvetica,sans-Serif\" font-size=\"14.00\">weighing &lt;= 5.5</text>\n",
       "<text text-anchor=\"middle\" x=\"580.25\" y=\"-273.7\" font-family=\"Helvetica,sans-Serif\" font-size=\"14.00\">entropy = 1.334</text>\n",
       "<text text-anchor=\"middle\" x=\"580.25\" y=\"-258.7\" font-family=\"Helvetica,sans-Serif\" font-size=\"14.00\">samples = 20000</text>\n",
       "<text text-anchor=\"middle\" x=\"580.25\" y=\"-243.7\" font-family=\"Helvetica,sans-Serif\" font-size=\"14.00\">value = [1696, 9115, 9189]</text>\n",
       "<text text-anchor=\"middle\" x=\"580.25\" y=\"-228.7\" font-family=\"Helvetica,sans-Serif\" font-size=\"14.00\">class = Left_Lighter</text>\n",
       "</g>\n",
       "<!-- 0&#45;&gt;6 -->\n",
       "<g id=\"edge6\" class=\"edge\">\n",
       "<title>0&#45;&gt;6</title>\n",
       "<path fill=\"none\" stroke=\"black\" d=\"M515.88,-341.58C523.3,-332.8 531.22,-323.44 538.88,-314.39\"/>\n",
       "<polygon fill=\"black\" stroke=\"black\" points=\"542.02,-317.09 545.81,-307.2 536.68,-312.57 542.02,-317.09\"/>\n",
       "<text text-anchor=\"middle\" x=\"547.89\" y=\"-325.31\" font-family=\"Helvetica,sans-Serif\" font-size=\"14.00\">False</text>\n",
       "</g>\n",
       "<!-- 2 -->\n",
       "<g id=\"node3\" class=\"node\">\n",
       "<title>2</title>\n",
       "<path fill=\"#f2c19e\" stroke=\"black\" d=\"M265.25,-187C265.25,-187 105.25,-187 105.25,-187 99.25,-187 93.25,-181 93.25,-175 93.25,-175 93.25,-116 93.25,-116 93.25,-110 99.25,-104 105.25,-104 105.25,-104 265.25,-104 265.25,-104 271.25,-104 277.25,-110 277.25,-116 277.25,-116 277.25,-175 277.25,-175 277.25,-181 271.25,-187 265.25,-187\"/>\n",
       "<text text-anchor=\"middle\" x=\"185.25\" y=\"-169.7\" font-family=\"Helvetica,sans-Serif\" font-size=\"14.00\">weighing &lt;= 2.5</text>\n",
       "<text text-anchor=\"middle\" x=\"185.25\" y=\"-154.7\" font-family=\"Helvetica,sans-Serif\" font-size=\"14.00\">entropy = 1.381</text>\n",
       "<text text-anchor=\"middle\" x=\"185.25\" y=\"-139.7\" font-family=\"Helvetica,sans-Serif\" font-size=\"14.00\">samples = 20000</text>\n",
       "<text text-anchor=\"middle\" x=\"185.25\" y=\"-124.7\" font-family=\"Helvetica,sans-Serif\" font-size=\"14.00\">value = [11871, 4050, 4079]</text>\n",
       "<text text-anchor=\"middle\" x=\"185.25\" y=\"-109.7\" font-family=\"Helvetica,sans-Serif\" font-size=\"14.00\">class = Equilibrium</text>\n",
       "</g>\n",
       "<!-- 1&#45;&gt;2 -->\n",
       "<g id=\"edge2\" class=\"edge\">\n",
       "<title>1&#45;&gt;2</title>\n",
       "<path fill=\"none\" stroke=\"black\" d=\"M313.35,-222.58C297.15,-212.96 279.78,-202.64 263.22,-192.81\"/>\n",
       "<polygon fill=\"black\" stroke=\"black\" points=\"265.5,-189.49 255.11,-187.4 261.92,-195.51 265.5,-189.49\"/>\n",
       "</g>\n",
       "<!-- 5 -->\n",
       "<g id=\"node6\" class=\"node\">\n",
       "<title>5</title>\n",
       "<path fill=\"#fbfffd\" stroke=\"black\" d=\"M459.5,-179.5C459.5,-179.5 307,-179.5 307,-179.5 301,-179.5 295,-173.5 295,-167.5 295,-167.5 295,-123.5 295,-123.5 295,-117.5 301,-111.5 307,-111.5 307,-111.5 459.5,-111.5 459.5,-111.5 465.5,-111.5 471.5,-117.5 471.5,-123.5 471.5,-123.5 471.5,-167.5 471.5,-167.5 471.5,-173.5 465.5,-179.5 459.5,-179.5\"/>\n",
       "<text text-anchor=\"middle\" x=\"383.25\" y=\"-162.2\" font-family=\"Helvetica,sans-Serif\" font-size=\"14.00\">entropy = 1.585</text>\n",
       "<text text-anchor=\"middle\" x=\"383.25\" y=\"-147.2\" font-family=\"Helvetica,sans-Serif\" font-size=\"14.00\">samples = 10000</text>\n",
       "<text text-anchor=\"middle\" x=\"383.25\" y=\"-132.2\" font-family=\"Helvetica,sans-Serif\" font-size=\"14.00\">value = [3263, 3432, 3305]</text>\n",
       "<text text-anchor=\"middle\" x=\"383.25\" y=\"-117.2\" font-family=\"Helvetica,sans-Serif\" font-size=\"14.00\">class = Equilibrium</text>\n",
       "</g>\n",
       "<!-- 1&#45;&gt;5 -->\n",
       "<g id=\"edge5\" class=\"edge\">\n",
       "<title>1&#45;&gt;5</title>\n",
       "<path fill=\"none\" stroke=\"black\" d=\"M382.6,-222.58C382.69,-212.32 382.78,-201.27 382.87,-190.85\"/>\n",
       "<polygon fill=\"black\" stroke=\"black\" points=\"386.38,-190.89 382.96,-180.86 379.38,-190.83 386.38,-190.89\"/>\n",
       "</g>\n",
       "<!-- 3 -->\n",
       "<g id=\"node4\" class=\"node\">\n",
       "<title>3</title>\n",
       "<path fill=\"#efb388\" stroke=\"black\" d=\"M164.5,-68C164.5,-68 12,-68 12,-68 6,-68 0,-62 0,-56 0,-56 0,-12 0,-12 0,-6 6,0 12,0 12,0 164.5,0 164.5,0 170.5,0 176.5,-6 176.5,-12 176.5,-12 176.5,-56 176.5,-56 176.5,-62 170.5,-68 164.5,-68\"/>\n",
       "<text text-anchor=\"middle\" x=\"88.25\" y=\"-50.7\" font-family=\"Helvetica,sans-Serif\" font-size=\"14.00\">entropy = 1.25</text>\n",
       "<text text-anchor=\"middle\" x=\"88.25\" y=\"-35.7\" font-family=\"Helvetica,sans-Serif\" font-size=\"14.00\">samples = 10000</text>\n",
       "<text text-anchor=\"middle\" x=\"88.25\" y=\"-20.7\" font-family=\"Helvetica,sans-Serif\" font-size=\"14.00\">value = [6676, 1683, 1641]</text>\n",
       "<text text-anchor=\"middle\" x=\"88.25\" y=\"-5.7\" font-family=\"Helvetica,sans-Serif\" font-size=\"14.00\">class = Equilibrium</text>\n",
       "</g>\n",
       "<!-- 2&#45;&gt;3 -->\n",
       "<g id=\"edge3\" class=\"edge\">\n",
       "<title>2&#45;&gt;3</title>\n",
       "<path fill=\"none\" stroke=\"black\" d=\"M149.13,-103.73C141.21,-94.79 132.82,-85.32 124.88,-76.36\"/>\n",
       "<polygon fill=\"black\" stroke=\"black\" points=\"128,-74.46 118.75,-69.3 122.76,-79.11 128,-74.46\"/>\n",
       "</g>\n",
       "<!-- 4 -->\n",
       "<g id=\"node5\" class=\"node\">\n",
       "<title>4</title>\n",
       "<path fill=\"#f6d1b7\" stroke=\"black\" d=\"M359.5,-68C359.5,-68 207,-68 207,-68 201,-68 195,-62 195,-56 195,-56 195,-12 195,-12 195,-6 201,0 207,0 207,0 359.5,0 359.5,0 365.5,0 371.5,-6 371.5,-12 371.5,-12 371.5,-56 371.5,-56 371.5,-62 365.5,-68 359.5,-68\"/>\n",
       "<text text-anchor=\"middle\" x=\"283.25\" y=\"-50.7\" font-family=\"Helvetica,sans-Serif\" font-size=\"14.00\">entropy = 1.479</text>\n",
       "<text text-anchor=\"middle\" x=\"283.25\" y=\"-35.7\" font-family=\"Helvetica,sans-Serif\" font-size=\"14.00\">samples = 10000</text>\n",
       "<text text-anchor=\"middle\" x=\"283.25\" y=\"-20.7\" font-family=\"Helvetica,sans-Serif\" font-size=\"14.00\">value = [5195, 2367, 2438]</text>\n",
       "<text text-anchor=\"middle\" x=\"283.25\" y=\"-5.7\" font-family=\"Helvetica,sans-Serif\" font-size=\"14.00\">class = Equilibrium</text>\n",
       "</g>\n",
       "<!-- 2&#45;&gt;4 -->\n",
       "<g id=\"edge4\" class=\"edge\">\n",
       "<title>2&#45;&gt;4</title>\n",
       "<path fill=\"none\" stroke=\"black\" d=\"M221.74,-103.73C229.74,-94.79 238.22,-85.32 246.24,-76.36\"/>\n",
       "<polygon fill=\"black\" stroke=\"black\" points=\"248.39,-79.09 252.45,-69.3 243.17,-74.42 248.39,-79.09\"/>\n",
       "</g>\n",
       "<!-- 7 -->\n",
       "<g id=\"node8\" class=\"node\">\n",
       "<title>7</title>\n",
       "<path fill=\"#fdfdff\" stroke=\"black\" d=\"M655.5,-179.5C655.5,-179.5 503,-179.5 503,-179.5 497,-179.5 491,-173.5 491,-167.5 491,-167.5 491,-123.5 491,-123.5 491,-117.5 497,-111.5 503,-111.5 503,-111.5 655.5,-111.5 655.5,-111.5 661.5,-111.5 667.5,-117.5 667.5,-123.5 667.5,-123.5 667.5,-167.5 667.5,-167.5 667.5,-173.5 661.5,-179.5 655.5,-179.5\"/>\n",
       "<text text-anchor=\"middle\" x=\"579.25\" y=\"-162.2\" font-family=\"Helvetica,sans-Serif\" font-size=\"14.00\">entropy = 1.487</text>\n",
       "<text text-anchor=\"middle\" x=\"579.25\" y=\"-147.2\" font-family=\"Helvetica,sans-Serif\" font-size=\"14.00\">samples = 10000</text>\n",
       "<text text-anchor=\"middle\" x=\"579.25\" y=\"-132.2\" font-family=\"Helvetica,sans-Serif\" font-size=\"14.00\">value = [1696, 4115, 4189]</text>\n",
       "<text text-anchor=\"middle\" x=\"579.25\" y=\"-117.2\" font-family=\"Helvetica,sans-Serif\" font-size=\"14.00\">class = Left_Lighter</text>\n",
       "</g>\n",
       "<!-- 6&#45;&gt;7 -->\n",
       "<g id=\"edge7\" class=\"edge\">\n",
       "<title>6&#45;&gt;7</title>\n",
       "<path fill=\"none\" stroke=\"black\" d=\"M579.9,-222.58C579.81,-212.32 579.72,-201.27 579.63,-190.85\"/>\n",
       "<polygon fill=\"black\" stroke=\"black\" points=\"583.12,-190.83 579.54,-180.86 576.12,-190.89 583.12,-190.83\"/>\n",
       "</g>\n",
       "<!-- 8 -->\n",
       "<g id=\"node9\" class=\"node\">\n",
       "<title>8</title>\n",
       "<path fill=\"#ffffff\" stroke=\"black\" d=\"M827.25,-179.5C827.25,-179.5 697.25,-179.5 697.25,-179.5 691.25,-179.5 685.25,-173.5 685.25,-167.5 685.25,-167.5 685.25,-123.5 685.25,-123.5 685.25,-117.5 691.25,-111.5 697.25,-111.5 697.25,-111.5 827.25,-111.5 827.25,-111.5 833.25,-111.5 839.25,-117.5 839.25,-123.5 839.25,-123.5 839.25,-167.5 839.25,-167.5 839.25,-173.5 833.25,-179.5 827.25,-179.5\"/>\n",
       "<text text-anchor=\"middle\" x=\"762.25\" y=\"-162.2\" font-family=\"Helvetica,sans-Serif\" font-size=\"14.00\">entropy = 1.0</text>\n",
       "<text text-anchor=\"middle\" x=\"762.25\" y=\"-147.2\" font-family=\"Helvetica,sans-Serif\" font-size=\"14.00\">samples = 10000</text>\n",
       "<text text-anchor=\"middle\" x=\"762.25\" y=\"-132.2\" font-family=\"Helvetica,sans-Serif\" font-size=\"14.00\">value = [0, 5000, 5000]</text>\n",
       "<text text-anchor=\"middle\" x=\"762.25\" y=\"-117.2\" font-family=\"Helvetica,sans-Serif\" font-size=\"14.00\">class = Equilibrium</text>\n",
       "</g>\n",
       "<!-- 6&#45;&gt;8 -->\n",
       "<g id=\"edge8\" class=\"edge\">\n",
       "<title>6&#45;&gt;8</title>\n",
       "<path fill=\"none\" stroke=\"black\" d=\"M643.9,-222.58C662.5,-210.63 682.76,-197.6 701.19,-185.75\"/>\n",
       "<polygon fill=\"black\" stroke=\"black\" points=\"702.84,-188.21 709.35,-179.86 699.05,-182.32 702.84,-188.21\"/>\n",
       "</g>\n",
       "</g>\n",
       "</svg>\n"
      ],
      "text/plain": [
       "<graphviz.sources.Source at 0x7fac0a703790>"
      ]
     },
     "execution_count": 20,
     "metadata": {},
     "output_type": "execute_result"
    }
   ],
   "source": [
    "feature_names = [\"weighing\"]\n",
    "dot_data = export_graphviz(decision_tree_classifier, out_file=None, filled=True, rounded = True, feature_names=feature_names, class_names=df.result.values)\n",
    "graph = graphviz.Source(dot_data)\n",
    "graph"
   ]
  },
  {
   "cell_type": "code",
   "execution_count": null,
   "id": "optimum-network",
   "metadata": {},
   "outputs": [],
   "source": []
  },
  {
   "cell_type": "code",
   "execution_count": null,
   "id": "8ba56b4a",
   "metadata": {},
   "outputs": [],
   "source": []
  }
 ],
 "metadata": {
  "kernelspec": {
   "display_name": "Python 3 (ipykernel)",
   "language": "python",
   "name": "python3"
  },
  "language_info": {
   "codemirror_mode": {
    "name": "ipython",
    "version": 3
   },
   "file_extension": ".py",
   "mimetype": "text/x-python",
   "name": "python",
   "nbconvert_exporter": "python",
   "pygments_lexer": "ipython3",
   "version": "3.9.12"
  }
 },
 "nbformat": 4,
 "nbformat_minor": 5
}
