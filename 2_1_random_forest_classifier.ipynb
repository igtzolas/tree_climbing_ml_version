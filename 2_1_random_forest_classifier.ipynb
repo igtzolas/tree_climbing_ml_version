{
 "cells": [
  {
   "cell_type": "code",
   "execution_count": 1,
   "id": "democratic-glory",
   "metadata": {},
   "outputs": [],
   "source": [
    "import numpy as np\n",
    "import pandas as pd\n",
    "import random\n",
    "%load_ext autoreload\n",
    "%autoreload 2\n",
    "import handle_categorical_vars\n",
    "import handle_missing_values\n",
    "\n",
    "from sklearn.ensemble import RandomForestClassifier\n",
    "from sklearn.metrics import accuracy_score\n",
    "from sklearn.model_selection import train_test_split\n",
    "\n",
    "import matplotlib.pyplot as plt"
   ]
  },
  {
   "cell_type": "code",
   "execution_count": 11,
   "id": "athletic-tattoo",
   "metadata": {},
   "outputs": [
    {
     "data": {
      "text/plain": [
       "0.6321320000000007"
      ]
     },
     "execution_count": 11,
     "metadata": {},
     "output_type": "execute_result"
    }
   ],
   "source": [
    "# A random forest consists of many decision trees\n",
    "# Each decision tree is trained with ~ 63% of the overall roles since we choose with replacement the rows for the tree bag\n",
    "SIZE = 10000\n",
    "EXPERIMENTS = 1000\n",
    "fractions = []\n",
    "for i in range(EXPERIMENTS):\n",
    "    n_elements = len(set(np.random.choice(np.arange(1, SIZE + 1, 1), size = SIZE, replace = True)))\n",
    "    fractions.append(n_elements/SIZE)\n",
    "sum(fractions) / EXPERIMENTS"
   ]
  },
  {
   "cell_type": "code",
   "execution_count": 7,
   "id": "acute-sellers",
   "metadata": {},
   "outputs": [
    {
     "data": {
      "text/html": [
       "<div>\n",
       "<style scoped>\n",
       "    .dataframe tbody tr th:only-of-type {\n",
       "        vertical-align: middle;\n",
       "    }\n",
       "\n",
       "    .dataframe tbody tr th {\n",
       "        vertical-align: top;\n",
       "    }\n",
       "\n",
       "    .dataframe thead th {\n",
       "        text-align: right;\n",
       "    }\n",
       "</style>\n",
       "<table border=\"1\" class=\"dataframe\">\n",
       "  <thead>\n",
       "    <tr style=\"text-align: right;\">\n",
       "      <th></th>\n",
       "      <th>Pclass</th>\n",
       "      <th>Age</th>\n",
       "      <th>SibSp</th>\n",
       "      <th>Parch</th>\n",
       "      <th>Fare</th>\n",
       "      <th>Sex_male</th>\n",
       "    </tr>\n",
       "  </thead>\n",
       "  <tbody>\n",
       "    <tr>\n",
       "      <th>0</th>\n",
       "      <td>3.0</td>\n",
       "      <td>22.0</td>\n",
       "      <td>1.0</td>\n",
       "      <td>0.0</td>\n",
       "      <td>7.2500</td>\n",
       "      <td>1.0</td>\n",
       "    </tr>\n",
       "    <tr>\n",
       "      <th>1</th>\n",
       "      <td>1.0</td>\n",
       "      <td>38.0</td>\n",
       "      <td>1.0</td>\n",
       "      <td>0.0</td>\n",
       "      <td>71.2833</td>\n",
       "      <td>0.0</td>\n",
       "    </tr>\n",
       "    <tr>\n",
       "      <th>2</th>\n",
       "      <td>3.0</td>\n",
       "      <td>26.0</td>\n",
       "      <td>0.0</td>\n",
       "      <td>0.0</td>\n",
       "      <td>7.9250</td>\n",
       "      <td>0.0</td>\n",
       "    </tr>\n",
       "    <tr>\n",
       "      <th>3</th>\n",
       "      <td>1.0</td>\n",
       "      <td>35.0</td>\n",
       "      <td>1.0</td>\n",
       "      <td>0.0</td>\n",
       "      <td>53.1000</td>\n",
       "      <td>0.0</td>\n",
       "    </tr>\n",
       "    <tr>\n",
       "      <th>4</th>\n",
       "      <td>3.0</td>\n",
       "      <td>35.0</td>\n",
       "      <td>0.0</td>\n",
       "      <td>0.0</td>\n",
       "      <td>8.0500</td>\n",
       "      <td>1.0</td>\n",
       "    </tr>\n",
       "  </tbody>\n",
       "</table>\n",
       "</div>"
      ],
      "text/plain": [
       "   Pclass   Age  SibSp  Parch     Fare  Sex_male\n",
       "0     3.0  22.0    1.0    0.0   7.2500       1.0\n",
       "1     1.0  38.0    1.0    0.0  71.2833       0.0\n",
       "2     3.0  26.0    0.0    0.0   7.9250       0.0\n",
       "3     1.0  35.0    1.0    0.0  53.1000       0.0\n",
       "4     3.0  35.0    0.0    0.0   8.0500       1.0"
      ]
     },
     "execution_count": 7,
     "metadata": {},
     "output_type": "execute_result"
    }
   ],
   "source": [
    "# https://www.kaggle.com/competitions/titanic/data\n",
    "titanic_train_df = pd.read_csv(\"./train.csv\")\n",
    "X = titanic_train_df.drop([\"PassengerId\", \"Name\", \"Ticket\", \"Cabin\", \"Survived\", \"Embarked\"], axis = 1)\n",
    "y = titanic_train_df.loc[:, \"Survived\"]\n",
    "X = handle_categorical_vars.one_hot_encode_column(X, \"Sex\", drop_first = True)\n",
    "# X = handle_categorical_vars.one_hot_encode_column(X, \"Embarked\")\n",
    "column_names = X.columns\n",
    "X = handle_missing_values.impute_knn_algorithm(X, 3, False)\n",
    "X = pd.DataFrame(X, columns = column_names)\n",
    "# X[\"Survived\"] = y\n",
    "X.head()"
   ]
  },
  {
   "cell_type": "code",
   "execution_count": 8,
   "id": "independent-measure",
   "metadata": {},
   "outputs": [],
   "source": [
    "X_train, X_test, y_train, y_test = train_test_split(X, y, random_state=3, test_size=0.2)"
   ]
  },
  {
   "cell_type": "code",
   "execution_count": 9,
   "id": "selective-vault",
   "metadata": {},
   "outputs": [
    {
     "name": "stdout",
     "output_type": "stream",
     "text": [
      "The accuracy for the test set is 0.7821229050279329\n",
      "The accuracy for the train set is 0.9831460674157303\n"
     ]
    }
   ],
   "source": [
    "random_forest_classifier = RandomForestClassifier(n_estimators=100, random_state=3)\n",
    "random_forest_classifier.fit(X_train, y_train)\n",
    "y_pred_test = random_forest_classifier.predict(X_test)\n",
    "y_pred_train = random_forest_classifier.predict(X_train)\n",
    "print(f\"The accuracy for the test set is {accuracy_score(y_test, y_pred_test)}\")\n",
    "print(f\"The accuracy for the train set is {accuracy_score(y_train, y_pred_train)}\")"
   ]
  },
  {
   "cell_type": "code",
   "execution_count": 10,
   "id": "impossible-soviet",
   "metadata": {},
   "outputs": [
    {
     "data": {
      "text/plain": [
       "{'bootstrap': True,\n",
       " 'ccp_alpha': 0.0,\n",
       " 'class_weight': None,\n",
       " 'criterion': 'gini',\n",
       " 'max_depth': None,\n",
       " 'max_features': 'sqrt',\n",
       " 'max_leaf_nodes': None,\n",
       " 'max_samples': None,\n",
       " 'min_impurity_decrease': 0.0,\n",
       " 'min_samples_leaf': 1,\n",
       " 'min_samples_split': 2,\n",
       " 'min_weight_fraction_leaf': 0.0,\n",
       " 'n_estimators': 100,\n",
       " 'n_jobs': None,\n",
       " 'oob_score': False,\n",
       " 'random_state': 3,\n",
       " 'verbose': 0,\n",
       " 'warm_start': False}"
      ]
     },
     "execution_count": 10,
     "metadata": {},
     "output_type": "execute_result"
    }
   ],
   "source": [
    "random_forest_classifier.get_params()"
   ]
  },
  {
   "cell_type": "code",
   "execution_count": null,
   "id": "eastern-investment",
   "metadata": {},
   "outputs": [],
   "source": []
  }
 ],
 "metadata": {
  "kernelspec": {
   "display_name": "Python 3 (ipykernel)",
   "language": "python",
   "name": "python3"
  },
  "language_info": {
   "codemirror_mode": {
    "name": "ipython",
    "version": 3
   },
   "file_extension": ".py",
   "mimetype": "text/x-python",
   "name": "python",
   "nbconvert_exporter": "python",
   "pygments_lexer": "ipython3",
   "version": "3.9.12"
  }
 },
 "nbformat": 4,
 "nbformat_minor": 5
}
