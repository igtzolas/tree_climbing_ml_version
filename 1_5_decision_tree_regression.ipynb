{
 "cells": [
  {
   "cell_type": "markdown",
   "id": "marine-infrared",
   "metadata": {},
   "source": [
    "# Import modules"
   ]
  },
  {
   "cell_type": "code",
   "execution_count": 1,
   "id": "greater-springfield",
   "metadata": {},
   "outputs": [],
   "source": [
    "import numpy as np\n",
    "import pandas as pd\n",
    "from scipy import stats\n",
    "import matplotlib.pyplot as plt\n",
    "\n",
    "from sklearn.tree import DecisionTreeRegressor, export_graphviz\n",
    "\n",
    "import os\n",
    "import graphviz\n",
    "os.environ[\"PATH\"] += os.pathsep + 'C:/Program Files/Graphviz/bin'"
   ]
  },
  {
   "cell_type": "markdown",
   "id": "interpreted-mobile",
   "metadata": {},
   "source": [
    "# Create the toy dataset"
   ]
  },
  {
   "cell_type": "code",
   "execution_count": 2,
   "id": "ceramic-neutral",
   "metadata": {},
   "outputs": [],
   "source": [
    "data_dict = {\n",
    "    \"drug_dosage\" : np.arange(1, 40 + 1),\n",
    "    \"drug_effectiveness\" : np.concatenate([\n",
    "        stats.uniform(loc = 0,  scale = 0.5).rvs(size = 10), \n",
    "        stats.norm(loc = 10,  scale = 1).rvs(size = 5),\n",
    "        stats.uniform(loc = 100, scale = 1).rvs(size = 10), \n",
    "        stats.norm(loc = 40, scale = 1).rvs(size = 5),\n",
    "        stats.uniform(loc = 0,  scale = 0.5).rvs(size = 10)\n",
    "    ])} "
   ]
  },
  {
   "cell_type": "code",
   "execution_count": 3,
   "id": "uniform-region",
   "metadata": {},
   "outputs": [
    {
     "data": {
      "text/plain": [
       "<AxesSubplot:xlabel='drug_dosage', ylabel='drug_effectiveness'>"
      ]
     },
     "execution_count": 3,
     "metadata": {},
     "output_type": "execute_result"
    },
    {
     "data": {
      "image/png": "[encoded data removed]",
      "text/plain": [
       "<Figure size 432x288 with 1 Axes>"
      ]
     },
     "metadata": {
      "needs_background": "light"
     },
     "output_type": "display_data"
    }
   ],
   "source": [
    "df = pd.DataFrame(data_dict)\n",
    "df.plot.scatter(x = \"drug_dosage\", y = \"drug_effectiveness\")"
   ]
  },
  {
   "cell_type": "markdown",
   "id": "extra-interest",
   "metadata": {},
   "source": [
    "df.plot()"
   ]
  },
  {
   "cell_type": "markdown",
   "id": "billion-ivory",
   "metadata": {},
   "source": [
    "# Build regression decision tree"
   ]
  },
  {
   "cell_type": "code",
   "execution_count": 4,
   "id": "oriental-attempt",
   "metadata": {},
   "outputs": [
    {
     "data": {
      "text/plain": [
       "DecisionTreeRegressor(max_depth=2)"
      ]
     },
     "execution_count": 4,
     "metadata": {},
     "output_type": "execute_result"
    }
   ],
   "source": [
    "decision_tree_regressor = DecisionTreeRegressor(max_depth = 2)\n",
    "decision_tree_regressor.fit(df.drop(\"drug_effectiveness\", axis = 1, inplace=False), df[\"drug_effectiveness\"])"
   ]
  },
  {
   "cell_type": "code",
   "execution_count": 5,
   "id": "stretch-meditation",
   "metadata": {},
   "outputs": [
    {
     "data": {
      "image/svg+xml": [
       "<?xml version=\"1.0\" encoding=\"UTF-8\" standalone=\"no\"?>\n",
       "<!DOCTYPE svg PUBLIC \"-//W3C//DTD SVG 1.1//EN\"\n",
       " \"http://www.w3.org/Graphics/SVG/1.1/DTD/svg11.dtd\">\n",
       "<!-- Generated by graphviz version 2.44.1 (20200629.0800)\n",
       " -->\n",
       "<!-- Title: Tree Pages: 1 -->\n",
       "<svg width=\"521pt\" height=\"269pt\"\n",
       " viewBox=\"0.00 0.00 521.00 269.00\" xmlns=\"http://www.w3.org/2000/svg\" xmlns:xlink=\"http://www.w3.org/1999/xlink\">\n",
       "<g id=\"graph0\" class=\"graph\" transform=\"scale(1 1) rotate(0) translate(4 265)\">\n",
       "<title>Tree</title>\n",
       "<polygon fill=\"white\" stroke=\"transparent\" points=\"-4,4 -4,-265 517,-265 517,4 -4,4\"/>\n",
       "<!-- 0 -->\n",
       "<g id=\"node1\" class=\"node\">\n",
       "<title>0</title>\n",
       "<path fill=\"#f7d8c1\" stroke=\"black\" d=\"M312.5,-261C312.5,-261 182.5,-261 182.5,-261 176.5,-261 170.5,-255 170.5,-249 170.5,-249 170.5,-205 170.5,-205 170.5,-199 176.5,-193 182.5,-193 182.5,-193 312.5,-193 312.5,-193 318.5,-193 324.5,-199 324.5,-205 324.5,-205 324.5,-249 324.5,-249 324.5,-255 318.5,-261 312.5,-261\"/>\n",
       "<text text-anchor=\"middle\" x=\"247.5\" y=\"-245.8\" font-family=\"Helvetica,sans-Serif\" font-size=\"14.00\">drug_dosage &lt;= 15.5</text>\n",
       "<text text-anchor=\"middle\" x=\"247.5\" y=\"-230.8\" font-family=\"Helvetica,sans-Serif\" font-size=\"14.00\">mse = 1744.445</text>\n",
       "<text text-anchor=\"middle\" x=\"247.5\" y=\"-215.8\" font-family=\"Helvetica,sans-Serif\" font-size=\"14.00\">samples = 40</text>\n",
       "<text text-anchor=\"middle\" x=\"247.5\" y=\"-200.8\" font-family=\"Helvetica,sans-Serif\" font-size=\"14.00\">value = 31.35</text>\n",
       "</g>\n",
       "<!-- 1 -->\n",
       "<g id=\"node2\" class=\"node\">\n",
       "<title>1</title>\n",
       "<path fill=\"#fefbf9\" stroke=\"black\" d=\"M226.5,-157C226.5,-157 96.5,-157 96.5,-157 90.5,-157 84.5,-151 84.5,-145 84.5,-145 84.5,-101 84.5,-101 84.5,-95 90.5,-89 96.5,-89 96.5,-89 226.5,-89 226.5,-89 232.5,-89 238.5,-95 238.5,-101 238.5,-101 238.5,-145 238.5,-145 238.5,-151 232.5,-157 226.5,-157\"/>\n",
       "<text text-anchor=\"middle\" x=\"161.5\" y=\"-141.8\" font-family=\"Helvetica,sans-Serif\" font-size=\"14.00\">drug_dosage &lt;= 10.5</text>\n",
       "<text text-anchor=\"middle\" x=\"161.5\" y=\"-126.8\" font-family=\"Helvetica,sans-Serif\" font-size=\"14.00\">mse = 18.429</text>\n",
       "<text text-anchor=\"middle\" x=\"161.5\" y=\"-111.8\" font-family=\"Helvetica,sans-Serif\" font-size=\"14.00\">samples = 15</text>\n",
       "<text text-anchor=\"middle\" x=\"161.5\" y=\"-96.8\" font-family=\"Helvetica,sans-Serif\" font-size=\"14.00\">value = 3.23</text>\n",
       "</g>\n",
       "<!-- 0&#45;&gt;1 -->\n",
       "<g id=\"edge1\" class=\"edge\">\n",
       "<title>0&#45;&gt;1</title>\n",
       "<path fill=\"none\" stroke=\"black\" d=\"M219.58,-192.88C212.07,-183.98 203.86,-174.24 196.03,-164.96\"/>\n",
       "<polygon fill=\"black\" stroke=\"black\" points=\"198.7,-162.69 189.58,-157.3 193.35,-167.2 198.7,-162.69\"/>\n",
       "<text text-anchor=\"middle\" x=\"187.46\" y=\"-178.51\" font-family=\"Helvetica,sans-Serif\" font-size=\"14.00\">True</text>\n",
       "</g>\n",
       "<!-- 4 -->\n",
       "<g id=\"node5\" class=\"node\">\n",
       "<title>4</title>\n",
       "<path fill=\"#f3c3a0\" stroke=\"black\" d=\"M398.5,-157C398.5,-157 268.5,-157 268.5,-157 262.5,-157 256.5,-151 256.5,-145 256.5,-145 256.5,-101 256.5,-101 256.5,-95 262.5,-89 268.5,-89 268.5,-89 398.5,-89 398.5,-89 404.5,-89 410.5,-95 410.5,-101 410.5,-101 410.5,-145 410.5,-145 410.5,-151 404.5,-157 398.5,-157\"/>\n",
       "<text text-anchor=\"middle\" x=\"333.5\" y=\"-141.8\" font-family=\"Helvetica,sans-Serif\" font-size=\"14.00\">drug_dosage &lt;= 25.5</text>\n",
       "<text text-anchor=\"middle\" x=\"333.5\" y=\"-126.8\" font-family=\"Helvetica,sans-Serif\" font-size=\"14.00\">mse = 2020.932</text>\n",
       "<text text-anchor=\"middle\" x=\"333.5\" y=\"-111.8\" font-family=\"Helvetica,sans-Serif\" font-size=\"14.00\">samples = 25</text>\n",
       "<text text-anchor=\"middle\" x=\"333.5\" y=\"-96.8\" font-family=\"Helvetica,sans-Serif\" font-size=\"14.00\">value = 48.223</text>\n",
       "</g>\n",
       "<!-- 0&#45;&gt;4 -->\n",
       "<g id=\"edge4\" class=\"edge\">\n",
       "<title>0&#45;&gt;4</title>\n",
       "<path fill=\"none\" stroke=\"black\" d=\"M275.42,-192.88C282.93,-183.98 291.14,-174.24 298.97,-164.96\"/>\n",
       "<polygon fill=\"black\" stroke=\"black\" points=\"301.65,-167.2 305.42,-157.3 296.3,-162.69 301.65,-167.2\"/>\n",
       "<text text-anchor=\"middle\" x=\"307.54\" y=\"-178.51\" font-family=\"Helvetica,sans-Serif\" font-size=\"14.00\">False</text>\n",
       "</g>\n",
       "<!-- 2 -->\n",
       "<g id=\"node3\" class=\"node\">\n",
       "<title>2</title>\n",
       "<path fill=\"#ffffff\" stroke=\"black\" d=\"M91,-53C91,-53 12,-53 12,-53 6,-53 0,-47 0,-41 0,-41 0,-12 0,-12 0,-6 6,0 12,0 12,0 91,0 91,0 97,0 103,-6 103,-12 103,-12 103,-41 103,-41 103,-47 97,-53 91,-53\"/>\n",
       "<text text-anchor=\"middle\" x=\"51.5\" y=\"-37.8\" font-family=\"Helvetica,sans-Serif\" font-size=\"14.00\">mse = 0.014</text>\n",
       "<text text-anchor=\"middle\" x=\"51.5\" y=\"-22.8\" font-family=\"Helvetica,sans-Serif\" font-size=\"14.00\">samples = 10</text>\n",
       "<text text-anchor=\"middle\" x=\"51.5\" y=\"-7.8\" font-family=\"Helvetica,sans-Serif\" font-size=\"14.00\">value = 0.206</text>\n",
       "</g>\n",
       "<!-- 1&#45;&gt;2 -->\n",
       "<g id=\"edge2\" class=\"edge\">\n",
       "<title>1&#45;&gt;2</title>\n",
       "<path fill=\"none\" stroke=\"black\" d=\"M123.03,-88.95C112.06,-79.53 100.12,-69.27 89.2,-59.89\"/>\n",
       "<polygon fill=\"black\" stroke=\"black\" points=\"91.32,-57.1 81.46,-53.24 86.76,-62.41 91.32,-57.1\"/>\n",
       "</g>\n",
       "<!-- 3 -->\n",
       "<g id=\"node4\" class=\"node\">\n",
       "<title>3</title>\n",
       "<path fill=\"#fdf4ed\" stroke=\"black\" d=\"M211.5,-53C211.5,-53 133.5,-53 133.5,-53 127.5,-53 121.5,-47 121.5,-41 121.5,-41 121.5,-12 121.5,-12 121.5,-6 127.5,0 133.5,0 133.5,0 211.5,0 211.5,0 217.5,0 223.5,-6 223.5,-12 223.5,-12 223.5,-41 223.5,-41 223.5,-47 217.5,-53 211.5,-53\"/>\n",
       "<text text-anchor=\"middle\" x=\"172.5\" y=\"-37.8\" font-family=\"Helvetica,sans-Serif\" font-size=\"14.00\">mse = 0.382</text>\n",
       "<text text-anchor=\"middle\" x=\"172.5\" y=\"-22.8\" font-family=\"Helvetica,sans-Serif\" font-size=\"14.00\">samples = 5</text>\n",
       "<text text-anchor=\"middle\" x=\"172.5\" y=\"-7.8\" font-family=\"Helvetica,sans-Serif\" font-size=\"14.00\">value = 9.279</text>\n",
       "</g>\n",
       "<!-- 1&#45;&gt;3 -->\n",
       "<g id=\"edge3\" class=\"edge\">\n",
       "<title>1&#45;&gt;3</title>\n",
       "<path fill=\"none\" stroke=\"black\" d=\"M165.35,-88.95C166.32,-80.62 167.36,-71.65 168.34,-63.2\"/>\n",
       "<polygon fill=\"black\" stroke=\"black\" points=\"171.82,-63.57 169.5,-53.24 164.87,-62.76 171.82,-63.57\"/>\n",
       "</g>\n",
       "<!-- 5 -->\n",
       "<g id=\"node6\" class=\"node\">\n",
       "<title>5</title>\n",
       "<path fill=\"#e58139\" stroke=\"black\" d=\"M370,-53C370,-53 275,-53 275,-53 269,-53 263,-47 263,-41 263,-41 263,-12 263,-12 263,-6 269,0 275,0 275,0 370,0 370,0 376,0 382,-6 382,-12 382,-12 382,-41 382,-41 382,-47 376,-53 370,-53\"/>\n",
       "<text text-anchor=\"middle\" x=\"322.5\" y=\"-37.8\" font-family=\"Helvetica,sans-Serif\" font-size=\"14.00\">mse = 0.082</text>\n",
       "<text text-anchor=\"middle\" x=\"322.5\" y=\"-22.8\" font-family=\"Helvetica,sans-Serif\" font-size=\"14.00\">samples = 10</text>\n",
       "<text text-anchor=\"middle\" x=\"322.5\" y=\"-7.8\" font-family=\"Helvetica,sans-Serif\" font-size=\"14.00\">value = 100.382</text>\n",
       "</g>\n",
       "<!-- 4&#45;&gt;5 -->\n",
       "<g id=\"edge5\" class=\"edge\">\n",
       "<title>4&#45;&gt;5</title>\n",
       "<path fill=\"none\" stroke=\"black\" d=\"M329.65,-88.95C328.68,-80.62 327.64,-71.65 326.66,-63.2\"/>\n",
       "<polygon fill=\"black\" stroke=\"black\" points=\"330.13,-62.76 325.5,-53.24 323.18,-63.57 330.13,-62.76\"/>\n",
       "</g>\n",
       "<!-- 6 -->\n",
       "<g id=\"node7\" class=\"node\">\n",
       "<title>6</title>\n",
       "<path fill=\"#fceee5\" stroke=\"black\" d=\"M501,-53C501,-53 412,-53 412,-53 406,-53 400,-47 400,-41 400,-41 400,-12 400,-12 400,-6 406,0 412,0 412,0 501,0 501,0 507,0 513,-6 513,-12 513,-12 513,-41 513,-41 513,-47 507,-53 501,-53\"/>\n",
       "<text text-anchor=\"middle\" x=\"456.5\" y=\"-37.8\" font-family=\"Helvetica,sans-Serif\" font-size=\"14.00\">mse = 345.221</text>\n",
       "<text text-anchor=\"middle\" x=\"456.5\" y=\"-22.8\" font-family=\"Helvetica,sans-Serif\" font-size=\"14.00\">samples = 15</text>\n",
       "<text text-anchor=\"middle\" x=\"456.5\" y=\"-7.8\" font-family=\"Helvetica,sans-Serif\" font-size=\"14.00\">value = 13.449</text>\n",
       "</g>\n",
       "<!-- 4&#45;&gt;6 -->\n",
       "<g id=\"edge6\" class=\"edge\">\n",
       "<title>4&#45;&gt;6</title>\n",
       "<path fill=\"none\" stroke=\"black\" d=\"M376.52,-88.95C389.02,-79.34 402.65,-68.87 415.05,-59.34\"/>\n",
       "<polygon fill=\"black\" stroke=\"black\" points=\"417.2,-62.1 423,-53.24 412.94,-56.55 417.2,-62.1\"/>\n",
       "</g>\n",
       "</g>\n",
       "</svg>\n"
      ],
      "text/plain": [
       "<graphviz.sources.Source at 0x29e5f588880>"
      ]
     },
     "execution_count": 5,
     "metadata": {},
     "output_type": "execute_result"
    }
   ],
   "source": [
    "dot_data = export_graphviz(decision_tree_regressor, out_file=None, filled=True, rounded = True, feature_names=[\"drug_dosage\"], class_names=[\"drug_effectiveness\"])\n",
    "graph = graphviz.Source(dot_data)\n",
    "graph"
   ]
  },
  {
   "cell_type": "code",
   "execution_count": null,
   "id": "extended-museum",
   "metadata": {},
   "outputs": [],
   "source": []
  },
  {
   "cell_type": "code",
   "execution_count": null,
   "id": "unusual-madrid",
   "metadata": {},
   "outputs": [],
   "source": []
  },
  {
   "cell_type": "code",
   "execution_count": null,
   "id": "desperate-berkeley",
   "metadata": {},
   "outputs": [],
   "source": []
  }
 ],
 "metadata": {
  "kernelspec": {
   "display_name": "Python 3 (ipykernel)",
   "language": "python",
   "name": "python3"
  },
  "language_info": {
   "codemirror_mode": {
    "name": "ipython",
    "version": 3
   },
   "file_extension": ".py",
   "mimetype": "text/x-python",
   "name": "python",
   "nbconvert_exporter": "python",
   "pygments_lexer": "ipython3",
   "version": "3.9.12"
  }
 },
 "nbformat": 4,
 "nbformat_minor": 5
}
