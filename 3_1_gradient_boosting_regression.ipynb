{
 "cells": [
  {
   "cell_type": "code",
   "execution_count": 1,
   "id": "0fccf0e9",
   "metadata": {
    "_cell_guid": "b1076dfc-b9ad-4769-8c92-a6c4dae69d19",
    "_uuid": "8f2839f25d086af736a60e9eeb907d3b93b6e0e5",
    "execution": {
     "iopub.execute_input": "2022-09-15T15:29:54.387844Z",
     "iopub.status.busy": "2022-09-15T15:29:54.386893Z",
     "iopub.status.idle": "2022-09-15T15:29:57.799891Z",
     "shell.execute_reply": "2022-09-15T15:29:57.798818Z"
    },
    "papermill": {
     "duration": 3.423998,
     "end_time": "2022-09-15T15:29:57.802930",
     "exception": false,
     "start_time": "2022-09-15T15:29:54.378932",
     "status": "completed"
    },
    "tags": []
   },
   "outputs": [],
   "source": [
    "import numpy as np\n",
    "import pandas as pd\n",
    "import torch\n",
    "import torch.autograd as autograd\n",
    "import torch.optim as optim\n",
    "import torch.nn.functional as F\n",
    "from sklearn.linear_model import LinearRegression\n",
    "from sklearn.datasets import load_boston\n",
    "from ipywidgets import interact\n",
    "\n",
    "import warnings\n",
    "warnings.filterwarnings('ignore')\n",
    "\n",
    "import custom_gbm_lib"
   ]
  },
  {
   "cell_type": "markdown",
   "id": "ca45cfd0",
   "metadata": {
    "papermill": {
     "duration": 0.004216,
     "end_time": "2022-09-15T15:29:57.811986",
     "exception": false,
     "start_time": "2022-09-15T15:29:57.807770",
     "status": "completed"
    },
    "tags": []
   },
   "source": [
    "# Loading the data"
   ]
  },
  {
   "cell_type": "code",
   "execution_count": 2,
   "id": "89292e42",
   "metadata": {
    "execution": {
     "iopub.execute_input": "2022-09-15T15:29:57.823413Z",
     "iopub.status.busy": "2022-09-15T15:29:57.822162Z",
     "iopub.status.idle": "2022-09-15T15:29:57.848987Z",
     "shell.execute_reply": "2022-09-15T15:29:57.847850Z"
    },
    "papermill": {
     "duration": 0.035393,
     "end_time": "2022-09-15T15:29:57.851826",
     "exception": false,
     "start_time": "2022-09-15T15:29:57.816433",
     "status": "completed"
    },
    "tags": []
   },
   "outputs": [],
   "source": [
    "boston = load_boston()\n",
    "boston_df = pd.DataFrame(boston.data)\n",
    "boston_df.columns = boston.feature_names\n",
    "X = boston_df\n",
    "y = pd.DataFrame(boston.target, columns=[\"Price\"])\n",
    "X[\"Price\"] = y"
   ]
  },
  {
   "cell_type": "markdown",
   "id": "45c13e06",
   "metadata": {
    "papermill": {
     "duration": 0.004273,
     "end_time": "2022-09-15T15:29:57.860742",
     "exception": false,
     "start_time": "2022-09-15T15:29:57.856469",
     "status": "completed"
    },
    "tags": []
   },
   "source": [
    "\n",
    "# Starting point\n",
    "### If we were given the data and somebody asked as : \n",
    "#### - What would your prediction be if you were given a new row ?\n",
    "\n",
    "#### Our answer would be ....\n",
    "#### the mean value of the prices we have already observed !"
   ]
  },
  {
   "cell_type": "code",
   "execution_count": 3,
   "id": "cb6f4967",
   "metadata": {
    "execution": {
     "iopub.execute_input": "2022-09-15T15:29:57.871844Z",
     "iopub.status.busy": "2022-09-15T15:29:57.871420Z",
     "iopub.status.idle": "2022-09-15T15:29:57.880642Z",
     "shell.execute_reply": "2022-09-15T15:29:57.879501Z"
    },
    "papermill": {
     "duration": 0.017626,
     "end_time": "2022-09-15T15:29:57.882932",
     "exception": false,
     "start_time": "2022-09-15T15:29:57.865306",
     "status": "completed"
    },
    "tags": []
   },
   "outputs": [
    {
     "data": {
      "text/plain": [
       "22.532806324110677"
      ]
     },
     "execution_count": 3,
     "metadata": {},
     "output_type": "execute_result"
    }
   ],
   "source": [
    "mean_value = y[\"Price\"].mean()\n",
    "mean_value"
   ]
  },
  {
   "cell_type": "markdown",
   "id": "84311f60",
   "metadata": {
    "papermill": {
     "duration": 0.004296,
     "end_time": "2022-09-15T15:29:57.891950",
     "exception": false,
     "start_time": "2022-09-15T15:29:57.887654",
     "status": "completed"
    },
    "tags": []
   },
   "source": [
    "#### We can pose the problem in another way.\n",
    "#### We are trying to find a single value that we would predict for each row by minimizing the distance between the single value and the target value (mean squared error across rows)"
   ]
  },
  {
   "cell_type": "code",
   "execution_count": 4,
   "id": "3d22fcf4",
   "metadata": {
    "execution": {
     "iopub.execute_input": "2022-09-15T15:29:57.903548Z",
     "iopub.status.busy": "2022-09-15T15:29:57.902770Z",
     "iopub.status.idle": "2022-09-15T15:29:58.860541Z",
     "shell.execute_reply": "2022-09-15T15:29:58.859330Z"
    },
    "papermill": {
     "duration": 0.966198,
     "end_time": "2022-09-15T15:29:58.862820",
     "exception": false,
     "start_time": "2022-09-15T15:29:57.896622",
     "status": "completed"
    },
    "tags": []
   },
   "outputs": [
    {
     "name": "stdout",
     "output_type": "stream",
     "text": [
      "The parameter value (by using pytorch autograd) is : 22.531627655029297\n",
      "The parameter value (by using a pytorch optimizer) is : 22.53276824951172\n",
      "The parameter value (by LinearRegression Model fitting) is 22.532806324110677\n"
     ]
    }
   ],
   "source": [
    "# Minmize loss function by calculating the gradient with autograd and updating manually the parameters\n",
    "single_value = torch.tensor(0.0, requires_grad = True)\n",
    "learning_rate = 0.05\n",
    "for _ in range(2000):\n",
    "    loss = torch.sqrt(torch.mean(torch.pow(torch.tensor(y.to_numpy()) - single_value, 2)))\n",
    "    grad = autograd.grad([loss], [single_value])\n",
    "    single_value = single_value - learning_rate * grad[0]\n",
    "print(f\"The parameter value (by using pytorch autograd) is : {single_value}\")   \n",
    "\n",
    "# Minmize loss function by using a pytorch optimizer \n",
    "single_value = torch.tensor(0.0, requires_grad = True)\n",
    "learning_rate = 0.05\n",
    "optimizer = optim.Adam([single_value], lr = learning_rate)\n",
    "for _ in range(2000):\n",
    "    loss = torch.sqrt(torch.mean(torch.pow(torch.tensor(y.to_numpy()) - single_value, 2)))    \n",
    "    optimizer.zero_grad()\n",
    "    loss.backward()\n",
    "    optimizer.step()\n",
    "print(f\"The parameter value (by using a pytorch optimizer) is : {single_value}\")\n",
    "\n",
    "tensor_y = torch.tensor(y.to_numpy())\n",
    "model = LinearRegression(fit_intercept=False)\n",
    "model.fit(torch.ones_like(tensor_y), tensor_y)\n",
    "print(f\"The parameter value (by LinearRegression Model fitting) is {model.coef_[0][0]}\")"
   ]
  },
  {
   "cell_type": "markdown",
   "id": "110f66cd",
   "metadata": {
    "papermill": {
     "duration": 0.004488,
     "end_time": "2022-09-15T15:29:58.872509",
     "exception": false,
     "start_time": "2022-09-15T15:29:58.868021",
     "status": "completed"
    },
    "tags": []
   },
   "source": [
    "# Running the custom implementation"
   ]
  },
  {
   "cell_type": "code",
   "execution_count": 5,
   "id": "a539a23e",
   "metadata": {
    "execution": {
     "iopub.execute_input": "2022-09-15T15:29:58.884131Z",
     "iopub.status.busy": "2022-09-15T15:29:58.883424Z",
     "iopub.status.idle": "2022-09-15T15:30:04.625299Z",
     "shell.execute_reply": "2022-09-15T15:30:04.624138Z"
    },
    "papermill": {
     "duration": 5.751094,
     "end_time": "2022-09-15T15:30:04.628293",
     "exception": false,
     "start_time": "2022-09-15T15:29:58.877199",
     "status": "completed"
    },
    "tags": []
   },
   "outputs": [],
   "source": [
    "# Reload the data\n",
    "boston_df = pd.DataFrame(boston.data)\n",
    "boston_df.columns = boston.feature_names\n",
    "X = boston_df\n",
    "y = pd.DataFrame(boston.target, columns=[\"Price\"])\n",
    "X[\"Price\"] = y\n",
    "# Definition of Hyper-Parameters\n",
    "NUM_CLASSIFIERS = 5\n",
    "MAX_DEPTH = 2\n",
    "GRADIENT_BOOST_LEARNING_RATE = 0.1\n",
    "MINIMIZER_LEARNING_RATE = 0.05\n",
    "MINIMIZER_TRAINING_EPOCHS = 1000\n",
    "# Running the custom algorithm \n",
    "custom = custom_gbm_lib.PytorchBasedGenericGradientBoost(\"regressor\", NUM_CLASSIFIERS, MAX_DEPTH, GRADIENT_BOOST_LEARNING_RATE=GRADIENT_BOOST_LEARNING_RATE, MINIMIZER_LEARNING_RATE=MINIMIZER_LEARNING_RATE, MINIMIZER_TRAINING_EPOCHS=MINIMIZER_TRAINING_EPOCHS)\n",
    "df_result = custom.fit(X, y.to_numpy())\n",
    "df_result_X, df_result_y = df_result"
   ]
  },
  {
   "cell_type": "code",
   "execution_count": 6,
   "id": "213e21e1",
   "metadata": {
    "execution": {
     "iopub.execute_input": "2022-09-15T15:30:04.640179Z",
     "iopub.status.busy": "2022-09-15T15:30:04.638929Z",
     "iopub.status.idle": "2022-09-15T15:30:04.724449Z",
     "shell.execute_reply": "2022-09-15T15:30:04.723221Z"
    },
    "papermill": {
     "duration": 0.094484,
     "end_time": "2022-09-15T15:30:04.727500",
     "exception": false,
     "start_time": "2022-09-15T15:30:04.633016",
     "status": "completed"
    },
    "tags": []
   },
   "outputs": [
    {
     "data": {
      "application/vnd.jupyter.widget-view+json": {
       "model_id": "a0ebb907bfb14002a2391c17641d56c5",
       "version_major": 2,
       "version_minor": 0
      },
      "text/plain": [
       "interactive(children=(IntSlider(value=1, description='step', max=7, min=1), Output()), _dom_classes=('widget-i…"
      ]
     },
     "metadata": {},
     "output_type": "display_data"
    },
    {
     "data": {
      "text/plain": [
       "<function __main__.display_df(step=1)>"
      ]
     },
     "execution_count": 6,
     "metadata": {},
     "output_type": "execute_result"
    }
   ],
   "source": [
    "feature_target_columns = ['CRIM', 'ZN', 'INDUS', 'CHAS', 'NOX', 'RM', 'AGE', 'DIS', 'RAD', 'TAX', 'PTRATIO', 'B', 'LSTAT', 'Price']\n",
    "def display_df(step=1):\n",
    "    if step == 1:\n",
    "        df_result_X['initial_prediction_x'] = \"???\"\n",
    "        columns = feature_target_columns + [\"initial_prediction_x\"]\n",
    "        return df_result_X.loc[:, columns]\n",
    "    elif step == 2:\n",
    "        df_result_X['initial_prediction_x'] = df_result_X.loc[:, \"Linear_0\"]\n",
    "        columns = feature_target_columns + [\"initial_prediction_x\"]\n",
    "        return df_result_X.loc[:, columns]\n",
    "    elif step == 3:\n",
    "        columns = feature_target_columns + [\"initial_prediction_x\", \"Gradients_0_1\"]\n",
    "        return df_result_X.loc[:, columns]\n",
    "    elif step == 4:\n",
    "        columns = feature_target_columns + [\"initial_prediction_x\", \"Gradients_0_1\", \"Clusters_1\"]\n",
    "        return df_result_X.loc[:, columns]\n",
    "    elif step == 5:\n",
    "        columns = feature_target_columns + [\"initial_prediction_x\", \"Gradients_0_1\", \"Clusters_1\"]\n",
    "        return df_result_X.sort_values(\"Clusters_1\", inplace=False).loc[:, columns]\n",
    "    elif step == 6:\n",
    "        columns = feature_target_columns + [\"initial_prediction_x\", \"Gradients_0_1\", \"Clusters_1\", \"Leaf_Prediction_1\"]\n",
    "        return df_result_X.sort_values(\"Clusters_1\", inplace=False).loc[:, columns]\n",
    "    elif step == 7:\n",
    "        columns = feature_target_columns + [\"initial_prediction_x\", \"Gradients_0_1\", \"Clusters_1\", \"Leaf_Prediction_1\", \"Linear_1\"]\n",
    "        return df_result_X.sort_values(\"Clusters_1\", inplace=False).loc[:, columns]\n",
    "    else:\n",
    "        return df_result_X\n",
    "interact(display_df, step = (1, 7, 1))"
   ]
  },
  {
   "cell_type": "markdown",
   "id": "7d8b4ccf",
   "metadata": {
    "papermill": {
     "duration": 0.004803,
     "end_time": "2022-09-15T15:30:04.739030",
     "exception": false,
     "start_time": "2022-09-15T15:30:04.734227",
     "status": "completed"
    },
    "tags": []
   },
   "source": [
    "# Explanation of the steps taken by the algorithm\n",
    "#### 1. Step 1 asks the question : What could be an initial prediction. We have covered this, it is the mean value of the target column.\n",
    "\n",
    "#### 2. Step 2 has the initial prediction set to the mean value.\n",
    "\n",
    "#### 3. Step 3 visits ***EACH and EVERY row*** respectively and considers the prediction of each row as the single parameter to the squared error loss function. \n",
    "#### It calculates the gradient of the loss with respect to the current prediction for the row.\n",
    "\n",
    "#### 4. Step 4 creates a decision tree whereby the ***target values are the GRADIENTS calculated in step 3***. \n",
    "#### The rational behind this is that predictions who would have similar impact to the loss, should be grouped together.\n",
    "\n",
    "#### 5. Step 5 sorts the rows based on cluster/leaf ids (the cluster id is the id of the decision tree leaf node in which the rows end up being present ***CLUSTER ID = LEAF NODE ID*** in decision tree).\n",
    "\n",
    "#### 6. Step 6 is performed ***for EACH and EVERY cluster***. \n",
    "#### It keeps only the rows for a specific cluster/leaf index and ***finds the ADDITIONAL MARGIN that should be added in the current row predictions*** that would minimize the error. ***This DELTA/ADDIOTIONAL MARGIN is the same for all the rows that end up in the particular cluster/leaf and is a single value.***\n",
    "\n",
    "#### 7. Step 7 updates the initial prediction with the one after the construction of the first decision tree.\n",
    "\n",
    "### The process repeats for subsequent trees."
   ]
  },
  {
   "cell_type": "markdown",
   "id": "8e041dfb",
   "metadata": {
    "papermill": {
     "duration": 0.004736,
     "end_time": "2022-09-15T15:30:04.748901",
     "exception": false,
     "start_time": "2022-09-15T15:30:04.744165",
     "status": "completed"
    },
    "tags": []
   },
   "source": [
    "# Step 3 breakdown"
   ]
  },
  {
   "cell_type": "code",
   "execution_count": 7,
   "id": "520db601",
   "metadata": {
    "execution": {
     "iopub.execute_input": "2022-09-15T15:30:04.761134Z",
     "iopub.status.busy": "2022-09-15T15:30:04.760509Z",
     "iopub.status.idle": "2022-09-15T15:30:04.768305Z",
     "shell.execute_reply": "2022-09-15T15:30:04.767337Z"
    },
    "papermill": {
     "duration": 0.01681,
     "end_time": "2022-09-15T15:30:04.770763",
     "exception": false,
     "start_time": "2022-09-15T15:30:04.753953",
     "status": "completed"
    },
    "tags": []
   },
   "outputs": [
    {
     "name": "stdout",
     "output_type": "stream",
     "text": [
      "The parameter value (by using pytorch autograd) is : -3.58990478515625\n"
     ]
    }
   ],
   "source": [
    "# Minmize loss function by calculating the gradient with autograd\n",
    "index = 0 \n",
    "row_prediction = torch.tensor(df_result_X.iloc[index, :][\"Linear_0\"], requires_grad = True)\n",
    "loss = torch.pow(torch.tensor(df_result_X.iloc[index, :][\"Price\"]) - row_prediction, 2)\n",
    "grad = autograd.grad([loss], [row_prediction])\n",
    "print(f\"The parameter value (by using pytorch autograd) is : {grad[0]}\") "
   ]
  },
  {
   "cell_type": "markdown",
   "id": "0f86ee49",
   "metadata": {
    "papermill": {
     "duration": 0.00499,
     "end_time": "2022-09-15T15:30:04.781068",
     "exception": false,
     "start_time": "2022-09-15T15:30:04.776078",
     "status": "completed"
    },
    "tags": []
   },
   "source": [
    "# Step 6 breakdown "
   ]
  },
  {
   "cell_type": "code",
   "execution_count": 7,
   "id": "32feee3e",
   "metadata": {
    "execution": {
     "iopub.execute_input": "2022-09-15T15:30:04.793562Z",
     "iopub.status.busy": "2022-09-15T15:30:04.793074Z",
     "iopub.status.idle": "2022-09-15T15:30:05.069396Z",
     "shell.execute_reply": "2022-09-15T15:30:05.067875Z"
    },
    "papermill": {
     "duration": 0.286781,
     "end_time": "2022-09-15T15:30:05.073180",
     "exception": false,
     "start_time": "2022-09-15T15:30:04.786399",
     "status": "completed"
    },
    "tags": []
   },
   "outputs": [
    {
     "name": "stdout",
     "output_type": "stream",
     "text": [
      "The parameter value is : 24.329490661621094\n"
     ]
    }
   ],
   "source": [
    "df_clusters_1_0 = df_result_X.loc[df_result_X[\"Clusters_1\"] == 0 , :]\n",
    "# Minmize loss function by using a pytorch optimizer \n",
    "single_delta_value = torch.tensor(0.0, requires_grad = True)\n",
    "learning_rate = 0.05\n",
    "optimizer = optim.Adam([single_delta_value], lr = learning_rate)\n",
    "for _ in range(1000):\n",
    "    loss = F.mse_loss(torch.tensor(df_clusters_1_0[\"Price\"].to_numpy()), \n",
    "                 torch.tensor(df_clusters_1_0[\"Linear_0\"].to_numpy()) + single_delta_value)    \n",
    "    optimizer.zero_grad()\n",
    "    loss.backward()\n",
    "    optimizer.step()\n",
    "print(f\"The parameter value is : {single_delta_value}\")"
   ]
  },
  {
   "cell_type": "markdown",
   "id": "e1ae2d23",
   "metadata": {
    "papermill": {
     "duration": 0.004888,
     "end_time": "2022-09-15T15:30:05.083502",
     "exception": false,
     "start_time": "2022-09-15T15:30:05.078614",
     "status": "completed"
    },
    "tags": []
   },
   "source": [
    "# Step 7 breakdown"
   ]
  },
  {
   "cell_type": "code",
   "execution_count": 9,
   "id": "ec27f4f6",
   "metadata": {
    "execution": {
     "iopub.execute_input": "2022-09-15T15:30:05.095865Z",
     "iopub.status.busy": "2022-09-15T15:30:05.094949Z",
     "iopub.status.idle": "2022-09-15T15:30:05.105814Z",
     "shell.execute_reply": "2022-09-15T15:30:05.104964Z"
    },
    "papermill": {
     "duration": 0.019404,
     "end_time": "2022-09-15T15:30:05.108011",
     "exception": false,
     "start_time": "2022-09-15T15:30:05.088607",
     "status": "completed"
    },
    "tags": []
   },
   "outputs": [
    {
     "data": {
      "text/plain": [
       "0      22.154355\n",
       "1      22.154355\n",
       "2      23.204271\n",
       "3      23.204271\n",
       "4      23.204271\n",
       "         ...    \n",
       "501    22.154355\n",
       "502    22.154355\n",
       "503    22.154355\n",
       "504    22.154355\n",
       "505    21.280440\n",
       "Length: 506, dtype: float64"
      ]
     },
     "execution_count": 9,
     "metadata": {},
     "output_type": "execute_result"
    }
   ],
   "source": [
    "# The predictions are updated based on the following formula : \n",
    "previous_prediction_column = \"Linear_0\"\n",
    "leaf_prediction_column = \"Leaf_Prediction_1\"\n",
    "df_result_X[previous_prediction_column] + GRADIENT_BOOST_LEARNING_RATE * df_result_X[leaf_prediction_column]"
   ]
  },
  {
   "cell_type": "code",
   "execution_count": null,
   "id": "89e0830e",
   "metadata": {
    "papermill": {
     "duration": 0.004937,
     "end_time": "2022-09-15T15:30:05.118961",
     "exception": false,
     "start_time": "2022-09-15T15:30:05.114024",
     "status": "completed"
    },
    "tags": []
   },
   "outputs": [],
   "source": []
  }
 ],
 "metadata": {
  "kernelspec": {
   "display_name": "Python 3 (ipykernel)",
   "language": "python",
   "name": "python3"
  },
  "language_info": {
   "codemirror_mode": {
    "name": "ipython",
    "version": 3
   },
   "file_extension": ".py",
   "mimetype": "text/x-python",
   "name": "python",
   "nbconvert_exporter": "python",
   "pygments_lexer": "ipython3",
   "version": "3.9.12"
  },
  "papermill": {
   "default_parameters": {},
   "duration": 21.135816,
   "end_time": "2022-09-15T15:30:05.945904",
   "environment_variables": {},
   "exception": null,
   "input_path": "__notebook__.ipynb",
   "output_path": "__notebook__.ipynb",
   "parameters": {},
   "start_time": "2022-09-15T15:29:44.810088",
   "version": "2.3.4"
  },
  "widgets": {
   "application/vnd.jupyter.widget-state+json": {
    "state": {
     "369969e9f96b4f7790934fa7963c1ef8": {
      "model_module": "@jupyter-widgets/base",
      "model_module_version": "1.2.0",
      "model_name": "LayoutModel",
      "state": {
       "_model_module": "@jupyter-widgets/base",
       "_model_module_version": "1.2.0",
       "_model_name": "LayoutModel",
       "_view_count": null,
       "_view_module": "@jupyter-widgets/base",
       "_view_module_version": "1.2.0",
       "_view_name": "LayoutView",
       "align_content": null,
       "align_items": null,
       "align_self": null,
       "border": null,
       "bottom": null,
       "display": null,
       "flex": null,
       "flex_flow": null,
       "grid_area": null,
       "grid_auto_columns": null,
       "grid_auto_flow": null,
       "grid_auto_rows": null,
       "grid_column": null,
       "grid_gap": null,
       "grid_row": null,
       "grid_template_areas": null,
       "grid_template_columns": null,
       "grid_template_rows": null,
       "height": null,
       "justify_content": null,
       "justify_items": null,
       "left": null,
       "margin": null,
       "max_height": null,
       "max_width": null,
       "min_height": null,
       "min_width": null,
       "object_fit": null,
       "object_position": null,
       "order": null,
       "overflow": null,
       "overflow_x": null,
       "overflow_y": null,
       "padding": null,
       "right": null,
       "top": null,
       "visibility": null,
       "width": null
      }
     },
     "451aa32133064dfc9fe658cc9a7a3d3e": {
      "model_module": "@jupyter-widgets/controls",
      "model_module_version": "1.5.0",
      "model_name": "VBoxModel",
      "state": {
       "_dom_classes": [
        "widget-interact"
       ],
       "_model_module": "@jupyter-widgets/controls",
       "_model_module_version": "1.5.0",
       "_model_name": "VBoxModel",
       "_view_count": null,
       "_view_module": "@jupyter-widgets/controls",
       "_view_module_version": "1.5.0",
       "_view_name": "VBoxView",
       "box_style": "",
       "children": [
        "IPY_MODEL_b66e0a43a9cf4075b654a94cd96763c5",
        "IPY_MODEL_dafccf5ba8354e5f8bebf023fd8992cb"
       ],
       "layout": "IPY_MODEL_369969e9f96b4f7790934fa7963c1ef8"
      }
     },
     "61e51772e37d4ea0b12860a7ce7b2034": {
      "model_module": "@jupyter-widgets/base",
      "model_module_version": "1.2.0",
      "model_name": "LayoutModel",
      "state": {
       "_model_module": "@jupyter-widgets/base",
       "_model_module_version": "1.2.0",
       "_model_name": "LayoutModel",
       "_view_count": null,
       "_view_module": "@jupyter-widgets/base",
       "_view_module_version": "1.2.0",
       "_view_name": "LayoutView",
       "align_content": null,
       "align_items": null,
       "align_self": null,
       "border": null,
       "bottom": null,
       "display": null,
       "flex": null,
       "flex_flow": null,
       "grid_area": null,
       "grid_auto_columns": null,
       "grid_auto_flow": null,
       "grid_auto_rows": null,
       "grid_column": null,
       "grid_gap": null,
       "grid_row": null,
       "grid_template_areas": null,
       "grid_template_columns": null,
       "grid_template_rows": null,
       "height": null,
       "justify_content": null,
       "justify_items": null,
       "left": null,
       "margin": null,
       "max_height": null,
       "max_width": null,
       "min_height": null,
       "min_width": null,
       "object_fit": null,
       "object_position": null,
       "order": null,
       "overflow": null,
       "overflow_x": null,
       "overflow_y": null,
       "padding": null,
       "right": null,
       "top": null,
       "visibility": null,
       "width": null
      }
     },
     "b66e0a43a9cf4075b654a94cd96763c5": {
      "model_module": "@jupyter-widgets/controls",
      "model_module_version": "1.5.0",
      "model_name": "IntSliderModel",
      "state": {
       "_dom_classes": [],
       "_model_module": "@jupyter-widgets/controls",
       "_model_module_version": "1.5.0",
       "_model_name": "IntSliderModel",
       "_view_count": null,
       "_view_module": "@jupyter-widgets/controls",
       "_view_module_version": "1.5.0",
       "_view_name": "IntSliderView",
       "continuous_update": true,
       "description": "step",
       "description_tooltip": null,
       "disabled": false,
       "layout": "IPY_MODEL_c9770077238940d98d1172261dcfd338",
       "max": 7,
       "min": 1,
       "orientation": "horizontal",
       "readout": true,
       "readout_format": "d",
       "step": 1,
       "style": "IPY_MODEL_b6b82e24a9654240a33c0a5a60f497cf",
       "value": 1
      }
     },
     "b6b82e24a9654240a33c0a5a60f497cf": {
      "model_module": "@jupyter-widgets/controls",
      "model_module_version": "1.5.0",
      "model_name": "SliderStyleModel",
      "state": {
       "_model_module": "@jupyter-widgets/controls",
       "_model_module_version": "1.5.0",
       "_model_name": "SliderStyleModel",
       "_view_count": null,
       "_view_module": "@jupyter-widgets/base",
       "_view_module_version": "1.2.0",
       "_view_name": "StyleView",
       "description_width": "",
       "handle_color": null
      }
     },
     "c9770077238940d98d1172261dcfd338": {
      "model_module": "@jupyter-widgets/base",
      "model_module_version": "1.2.0",
      "model_name": "LayoutModel",
      "state": {
       "_model_module": "@jupyter-widgets/base",
       "_model_module_version": "1.2.0",
       "_model_name": "LayoutModel",
       "_view_count": null,
       "_view_module": "@jupyter-widgets/base",
       "_view_module_version": "1.2.0",
       "_view_name": "LayoutView",
       "align_content": null,
       "align_items": null,
       "align_self": null,
       "border": null,
       "bottom": null,
       "display": null,
       "flex": null,
       "flex_flow": null,
       "grid_area": null,
       "grid_auto_columns": null,
       "grid_auto_flow": null,
       "grid_auto_rows": null,
       "grid_column": null,
       "grid_gap": null,
       "grid_row": null,
       "grid_template_areas": null,
       "grid_template_columns": null,
       "grid_template_rows": null,
       "height": null,
       "justify_content": null,
       "justify_items": null,
       "left": null,
       "margin": null,
       "max_height": null,
       "max_width": null,
       "min_height": null,
       "min_width": null,
       "object_fit": null,
       "object_position": null,
       "order": null,
       "overflow": null,
       "overflow_x": null,
       "overflow_y": null,
       "padding": null,
       "right": null,
       "top": null,
       "visibility": null,
       "width": null
      }
     },
     "dafccf5ba8354e5f8bebf023fd8992cb": {
      "model_module": "@jupyter-widgets/output",
      "model_module_version": "1.0.0",
      "model_name": "OutputModel",
      "state": {
       "_dom_classes": [],
       "_model_module": "@jupyter-widgets/output",
       "_model_module_version": "1.0.0",
       "_model_name": "OutputModel",
       "_view_count": null,
       "_view_module": "@jupyter-widgets/output",
       "_view_module_version": "1.0.0",
       "_view_name": "OutputView",
       "layout": "IPY_MODEL_61e51772e37d4ea0b12860a7ce7b2034",
       "msg_id": "",
       "outputs": [
        {
         "data": {
          "text/html": "<div>\n<style scoped>\n    .dataframe tbody tr th:only-of-type {\n        vertical-align: middle;\n    }\n\n    .dataframe tbody tr th {\n        vertical-align: top;\n    }\n\n    .dataframe thead th {\n        text-align: right;\n    }\n</style>\n<table border=\"1\" class=\"dataframe\">\n  <thead>\n    <tr style=\"text-align: right;\">\n      <th></th>\n      <th>CRIM</th>\n      <th>ZN</th>\n      <th>INDUS</th>\n      <th>CHAS</th>\n      <th>NOX</th>\n      <th>RM</th>\n      <th>AGE</th>\n      <th>DIS</th>\n      <th>RAD</th>\n      <th>TAX</th>\n      <th>PTRATIO</th>\n      <th>B</th>\n      <th>LSTAT</th>\n      <th>Price</th>\n      <th>initial_prediction_x</th>\n    </tr>\n  </thead>\n  <tbody>\n    <tr>\n      <th>0</th>\n      <td>0.00632</td>\n      <td>18.0</td>\n      <td>2.31</td>\n      <td>0.0</td>\n      <td>0.538</td>\n      <td>6.575</td>\n      <td>65.2</td>\n      <td>4.0900</td>\n      <td>1.0</td>\n      <td>296.0</td>\n      <td>15.3</td>\n      <td>396.90</td>\n      <td>4.98</td>\n      <td>24.0</td>\n      <td>???</td>\n    </tr>\n    <tr>\n      <th>1</th>\n      <td>0.02731</td>\n      <td>0.0</td>\n      <td>7.07</td>\n      <td>0.0</td>\n      <td>0.469</td>\n      <td>6.421</td>\n      <td>78.9</td>\n      <td>4.9671</td>\n      <td>2.0</td>\n      <td>242.0</td>\n      <td>17.8</td>\n      <td>396.90</td>\n      <td>9.14</td>\n      <td>21.6</td>\n      <td>???</td>\n    </tr>\n    <tr>\n      <th>2</th>\n      <td>0.02729</td>\n      <td>0.0</td>\n      <td>7.07</td>\n      <td>0.0</td>\n      <td>0.469</td>\n      <td>7.185</td>\n      <td>61.1</td>\n      <td>4.9671</td>\n      <td>2.0</td>\n      <td>242.0</td>\n      <td>17.8</td>\n      <td>392.83</td>\n      <td>4.03</td>\n      <td>34.7</td>\n      <td>???</td>\n    </tr>\n    <tr>\n      <th>3</th>\n      <td>0.03237</td>\n      <td>0.0</td>\n      <td>2.18</td>\n      <td>0.0</td>\n      <td>0.458</td>\n      <td>6.998</td>\n      <td>45.8</td>\n      <td>6.0622</td>\n      <td>3.0</td>\n      <td>222.0</td>\n      <td>18.7</td>\n      <td>394.63</td>\n      <td>2.94</td>\n      <td>33.4</td>\n      <td>???</td>\n    </tr>\n    <tr>\n      <th>4</th>\n      <td>0.06905</td>\n      <td>0.0</td>\n      <td>2.18</td>\n      <td>0.0</td>\n      <td>0.458</td>\n      <td>7.147</td>\n      <td>54.2</td>\n      <td>6.0622</td>\n      <td>3.0</td>\n      <td>222.0</td>\n      <td>18.7</td>\n      <td>396.90</td>\n      <td>5.33</td>\n      <td>36.2</td>\n      <td>???</td>\n    </tr>\n    <tr>\n      <th>...</th>\n      <td>...</td>\n      <td>...</td>\n      <td>...</td>\n      <td>...</td>\n      <td>...</td>\n      <td>...</td>\n      <td>...</td>\n      <td>...</td>\n      <td>...</td>\n      <td>...</td>\n      <td>...</td>\n      <td>...</td>\n      <td>...</td>\n      <td>...</td>\n      <td>...</td>\n    </tr>\n    <tr>\n      <th>501</th>\n      <td>0.06263</td>\n      <td>0.0</td>\n      <td>11.93</td>\n      <td>0.0</td>\n      <td>0.573</td>\n      <td>6.593</td>\n      <td>69.1</td>\n      <td>2.4786</td>\n      <td>1.0</td>\n      <td>273.0</td>\n      <td>21.0</td>\n      <td>391.99</td>\n      <td>9.67</td>\n      <td>22.4</td>\n      <td>???</td>\n    </tr>\n    <tr>\n      <th>502</th>\n      <td>0.04527</td>\n      <td>0.0</td>\n      <td>11.93</td>\n      <td>0.0</td>\n      <td>0.573</td>\n      <td>6.120</td>\n      <td>76.7</td>\n      <td>2.2875</td>\n      <td>1.0</td>\n      <td>273.0</td>\n      <td>21.0</td>\n      <td>396.90</td>\n      <td>9.08</td>\n      <td>20.6</td>\n      <td>???</td>\n    </tr>\n    <tr>\n      <th>503</th>\n      <td>0.06076</td>\n      <td>0.0</td>\n      <td>11.93</td>\n      <td>0.0</td>\n      <td>0.573</td>\n      <td>6.976</td>\n      <td>91.0</td>\n      <td>2.1675</td>\n      <td>1.0</td>\n      <td>273.0</td>\n      <td>21.0</td>\n      <td>396.90</td>\n      <td>5.64</td>\n      <td>23.9</td>\n      <td>???</td>\n    </tr>\n    <tr>\n      <th>504</th>\n      <td>0.10959</td>\n      <td>0.0</td>\n      <td>11.93</td>\n      <td>0.0</td>\n      <td>0.573</td>\n      <td>6.794</td>\n      <td>89.3</td>\n      <td>2.3889</td>\n      <td>1.0</td>\n      <td>273.0</td>\n      <td>21.0</td>\n      <td>393.45</td>\n      <td>6.48</td>\n      <td>22.0</td>\n      <td>???</td>\n    </tr>\n    <tr>\n      <th>505</th>\n      <td>0.04741</td>\n      <td>0.0</td>\n      <td>11.93</td>\n      <td>0.0</td>\n      <td>0.573</td>\n      <td>6.030</td>\n      <td>80.8</td>\n      <td>2.5050</td>\n      <td>1.0</td>\n      <td>273.0</td>\n      <td>21.0</td>\n      <td>396.90</td>\n      <td>7.88</td>\n      <td>11.9</td>\n      <td>???</td>\n    </tr>\n  </tbody>\n</table>\n<p>506 rows × 15 columns</p>\n</div>",
          "text/plain": "        CRIM    ZN  INDUS  CHAS    NOX     RM   AGE     DIS  RAD    TAX  \\\n0    0.00632  18.0   2.31   0.0  0.538  6.575  65.2  4.0900  1.0  296.0   \n1    0.02731   0.0   7.07   0.0  0.469  6.421  78.9  4.9671  2.0  242.0   \n2    0.02729   0.0   7.07   0.0  0.469  7.185  61.1  4.9671  2.0  242.0   \n3    0.03237   0.0   2.18   0.0  0.458  6.998  45.8  6.0622  3.0  222.0   \n4    0.06905   0.0   2.18   0.0  0.458  7.147  54.2  6.0622  3.0  222.0   \n..       ...   ...    ...   ...    ...    ...   ...     ...  ...    ...   \n501  0.06263   0.0  11.93   0.0  0.573  6.593  69.1  2.4786  1.0  273.0   \n502  0.04527   0.0  11.93   0.0  0.573  6.120  76.7  2.2875  1.0  273.0   \n503  0.06076   0.0  11.93   0.0  0.573  6.976  91.0  2.1675  1.0  273.0   \n504  0.10959   0.0  11.93   0.0  0.573  6.794  89.3  2.3889  1.0  273.0   \n505  0.04741   0.0  11.93   0.0  0.573  6.030  80.8  2.5050  1.0  273.0   \n\n     PTRATIO       B  LSTAT  Price initial_prediction_x  \n0       15.3  396.90   4.98   24.0                  ???  \n1       17.8  396.90   9.14   21.6                  ???  \n2       17.8  392.83   4.03   34.7                  ???  \n3       18.7  394.63   2.94   33.4                  ???  \n4       18.7  396.90   5.33   36.2                  ???  \n..       ...     ...    ...    ...                  ...  \n501     21.0  391.99   9.67   22.4                  ???  \n502     21.0  396.90   9.08   20.6                  ???  \n503     21.0  396.90   5.64   23.9                  ???  \n504     21.0  393.45   6.48   22.0                  ???  \n505     21.0  396.90   7.88   11.9                  ???  \n\n[506 rows x 15 columns]"
         },
         "metadata": {},
         "output_type": "display_data"
        }
       ]
      }
     }
    },
    "version_major": 2,
    "version_minor": 0
   }
  }
 },
 "nbformat": 4,
 "nbformat_minor": 5
}
